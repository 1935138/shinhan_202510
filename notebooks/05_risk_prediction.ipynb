{
 "cells": [
  {
   "cell_type": "markdown",
   "metadata": {},
   "source": [
    "# 폐업 위험 가맹점 예측 (Risk Prediction)\n",
    "\n",
    "## 목표\n",
    "- 학습된 모델을 사용하여 현재 영업 중인 가맹점의 폐업 위험도 예측\n",
    "- 고위험 가맹점 리스트 생성\n",
    "- 위험 요인 분석"
   ]
  },
  {
   "cell_type": "markdown",
   "metadata": {},
   "source": [
    "## 1. 환경 설정"
   ]
  },
  {
   "cell_type": "code",
   "execution_count": null,
   "metadata": {},
   "outputs": [],
   "source": [
    "import pandas as pd\n",
    "import numpy as np\n",
    "import matplotlib.pyplot as plt\n",
    "import seaborn as sns\n",
    "from pathlib import Path\n",
    "import pickle\n",
    "import warnings\n",
    "warnings.filterwarnings('ignore')\n",
    "\n",
    "# 시각화 기본 설정 먼저 적용\n",
    "plt.style.use('default')\n",
    "sns.set_palette('husl')\n",
    "plt.rcParams['figure.figsize'] = (12, 6)\n",
    "\n",
    "# 한글 폰트 설정 (기본 설정 이후에 적용)\n",
    "plt.rcParams['font.family'] = 'NanumGothic'\n",
    "plt.rcParams['axes.unicode_minus'] = False\n",
    "\n",
    "# 출력 설정\n",
    "pd.set_option('display.max_columns', 100)\n",
    "pd.set_option('display.max_rows', 100)\n",
    "\n",
    "print(\"Libraries loaded successfully\")"
   ]
  },
  {
   "cell_type": "markdown",
   "metadata": {},
   "source": [
    "## 2. 데이터 및 모델 로드"
   ]
  },
  {
   "cell_type": "code",
   "execution_count": null,
   "metadata": {},
   "outputs": [],
   "source": [
    "# Feature engineering 완료된 데이터 로드\n",
    "data_path = Path('../data/processed/featured_data.csv')\n",
    "df = pd.read_csv(data_path)\n",
    "\n",
    "print(f\"Loaded data shape: {df.shape}\")\n",
    "print(f\"Date range: {df['TA_YM'].min()} ~ {df['TA_YM'].max()}\")"
   ]
  },
  {
   "cell_type": "code",
   "execution_count": null,
   "metadata": {},
   "outputs": [],
   "source": [
    "# 저장된 모델 및 feature 목록 로드\n",
    "model_dir = Path('../models')\n",
    "\n",
    "# 최적 모델 로드\n",
    "with open(model_dir / 'xgboost_best.pkl', 'rb') as f:\n",
    "    model = pickle.load(f)\n",
    "print(\"✓ Model loaded: XGBoost (Tuned)\")\n",
    "\n",
    "# Feature 목록 로드\n",
    "with open(model_dir / 'feature_cols.pkl', 'rb') as f:\n",
    "    feature_cols = pickle.load(f)\n",
    "print(f\"✓ Features loaded: {len(feature_cols)} features\")\n",
    "\n",
    "# 모델 성능 확인\n",
    "import json\n",
    "with open(model_dir / 'final_results.json', 'r') as f:\n",
    "    results = json.load(f)\n",
    "print(f\"\\nModel Performance (Test Set):\")\n",
    "print(f\"  ROC-AUC: {results['test_roc_auc']:.4f}\")\n",
    "print(f\"  Precision: {results['test_precision']:.4f}\")\n",
    "print(f\"  Recall: {results['test_recall']:.4f}\")\n",
    "print(f\"  F1 Score: {results['test_f1']:.4f}\")"
   ]
  },
  {
   "cell_type": "code",
   "execution_count": null,
   "metadata": {},
   "outputs": [],
   "source": [
    "# Feature 한글명 매핑 로드\n",
    "with open(model_dir.parent / 'data/processed/feature_name_mapping.json', 'r', encoding='utf-8') as f:\n",
    "    name_mapping = json.load(f)\n",
    "\n",
    "def translate_feature_name(feature_name):\n",
    "    \"\"\"Feature 이름을 한글명으로 변환\"\"\"\n",
    "    # 원본 컬럼인 경우\n",
    "    if feature_name in name_mapping['원본 컬럼']:\n",
    "        return name_mapping['원본 컬럼'][feature_name]\n",
    "    \n",
    "    # 고객 특성 파생변수\n",
    "    if feature_name in name_mapping['고객 특성 파생변수']:\n",
    "        return name_mapping['고객 특성 파생변수'][feature_name]\n",
    "    \n",
    "    # 복합 지표\n",
    "    if feature_name in name_mapping['복합 지표']:\n",
    "        return name_mapping['복합 지표'][feature_name]\n",
    "    \n",
    "    # 날짜 특성\n",
    "    if feature_name in name_mapping['날짜 특성']:\n",
    "        return name_mapping['날짜 특성'][feature_name]\n",
    "    \n",
    "    # 타겟 변수\n",
    "    if feature_name in name_mapping['타겟 변수']:\n",
    "        return name_mapping['타겟 변수'][feature_name]\n",
    "    \n",
    "    # 시계열 파생 변수 (예: MCT_OPE_MS_CN_lag_1m)\n",
    "    for base_name, kr_name in name_mapping['원본 컬럼'].items():\n",
    "        if feature_name.startswith(base_name):\n",
    "            suffix = feature_name[len(base_name):]\n",
    "            if suffix in name_mapping['시계열 suffix 설명']:\n",
    "                return kr_name + ' ' + name_mapping['시계열 suffix 설명'][suffix]\n",
    "    \n",
    "    # 매핑 없는 경우 원본 이름 반환\n",
    "    return feature_name\n",
    "\n",
    "# 전체 feature 한글명 딕셔너리 생성\n",
    "feature_names_kr = {feat: translate_feature_name(feat) for feat in feature_cols}\n",
    "\n",
    "print(\"✓ Feature name mapping loaded\")\n",
    "print(f\"  Sample mappings:\")\n",
    "for i, (eng, kor) in enumerate(list(feature_names_kr.items())[:5]):\n",
    "    print(f\"    {eng:30s} -> {kor}\")"
   ]
  },
  {
   "cell_type": "markdown",
   "metadata": {},
   "source": [
    "## 3. 현재 영업 중인 가맹점 필터링"
   ]
  },
  {
   "cell_type": "code",
   "execution_count": null,
   "metadata": {},
   "outputs": [],
   "source": [
    "# 최신 월(2024년 12월) 데이터에서 영업 중인 가맹점 추출\n",
    "latest_month = df['TA_YM'].max()\n",
    "print(f\"Latest month: {latest_month}\")\n",
    "\n",
    "# 최신 월 데이터\n",
    "df_latest = df[df['TA_YM'] == latest_month].copy()\n",
    "print(f\"\\nTotal merchants in {latest_month}: {len(df_latest):,}\")\n",
    "\n",
    "# 영업 중인 가맹점 (폐업일이 없는 가맹점)\n",
    "# 영업 중인 가맹점 (폐업일이 없는 가맹점)\n",
    "df_active = df_latest[df_latest['MCT_ME_D'].isna()].copy()\n",
    "print(f\"Active merchants: {len(df_active):,}\")\n",
    "print(f\"Closed merchants: {len(df_latest) - len(df_active):,}\")"
   ]
  },
  {
   "cell_type": "markdown",
   "metadata": {},
   "source": [
    "## 4. 폐업 위험도 예측"
   ]
  },
  {
   "cell_type": "code",
   "execution_count": null,
   "metadata": {},
   "outputs": [],
   "source": [
    "# Feature 준비 (학습 시와 동일한 전처리)\n",
    "X_active = df_active[feature_cols].copy()\n",
    "\n",
    "# 결측값 처리 (중앙값으로 대체)\n",
    "X_active = X_active.fillna(X_active.median())\n",
    "\n",
    "print(f\"Prediction features shape: {X_active.shape}\")\n",
    "print(f\"Missing values: {X_active.isnull().sum().sum()}\")"
   ]
  },
  {
   "cell_type": "code",
   "execution_count": null,
   "metadata": {},
   "outputs": [],
   "source": [
    "# 폐업 확률 예측\n",
    "closure_probabilities = model.predict_proba(X_active)[:, 1]\n",
    "\n",
    "# 결과 DataFrame 생성\n",
    "df_risk = df_active[['ENCODED_MCT', 'TA_YM']].copy()\n",
    "df_risk['closure_probability'] = closure_probabilities\n",
    "\n",
    "# 위험도 등급 부여\n",
    "df_risk['risk_level'] = pd.cut(\n",
    "    closure_probabilities,\n",
    "    bins=[0, 0.1, 0.3, 0.5, 0.7, 1.0],\n",
    "    labels=['Very Low', 'Low', 'Medium', 'High', 'Very High']\n",
    ")\n",
    "\n",
    "print(\"✓ Prediction completed\")\n",
    "print(f\"\\nProbability statistics:\")\n",
    "print(df_risk['closure_probability'].describe())"
   ]
  },
  {
   "cell_type": "markdown",
   "metadata": {},
   "source": [
    "## 5. 위험도 분포 분석"
   ]
  },
  {
   "cell_type": "code",
   "execution_count": null,
   "metadata": {},
   "outputs": [],
   "source": [
    "# 위험도 등급별 분포\n",
    "print(\"Risk Level Distribution:\")\n",
    "print(\"=\" * 60)\n",
    "risk_dist = df_risk['risk_level'].value_counts().sort_index()\n",
    "for level, count in risk_dist.items():\n",
    "    pct = count / len(df_risk) * 100\n",
    "    print(f\"{level:12s}: {count:5,} ({pct:5.2f}%)\")\n",
    "\n",
    "# 시각화\n",
    "fig, axes = plt.subplots(1, 2, figsize=(15, 5))\n",
    "\n",
    "# 1. 위험도 등급 분포\n",
    "risk_dist.plot(kind='bar', ax=axes[0])\n",
    "axes[0].set_title('Risk Level Distribution', fontsize=14, fontweight='bold')\n",
    "axes[0].set_xlabel('Risk Level')\n",
    "axes[0].set_ylabel('Number of Merchants')\n",
    "axes[0].tick_params(axis='x', rotation=45)\n",
    "\n",
    "# 2. 폐업 확률 히스토그램\n",
    "axes[1].hist(closure_probabilities, bins=50, edgecolor='black', alpha=0.7)\n",
    "axes[1].set_title('Closure Probability Distribution', fontsize=14, fontweight='bold')\n",
    "axes[1].set_xlabel('Closure Probability')\n",
    "axes[1].set_ylabel('Number of Merchants')\n",
    "axes[1].axvline(closure_probabilities.mean(), color='red', linestyle='--',\n",
    "                label=f'Mean: {closure_probabilities.mean():.3f}')\n",
    "axes[1].axvline(np.median(closure_probabilities), color='green', linestyle='--',\n",
    "                label=f'Median: {np.median(closure_probabilities):.3f}')\n",
    "axes[1].legend()\n",
    "\n",
    "plt.tight_layout()\n",
    "plt.show()"
   ]
  },
  {
   "cell_type": "markdown",
   "metadata": {},
   "source": [
    "## 6. 고위험 가맹점 리스트"
   ]
  },
  {
   "cell_type": "code",
   "execution_count": null,
   "metadata": {},
   "outputs": [],
   "source": [
    "# 상위 100개 고위험 가맹점\n",
    "high_risk_merchants = df_risk.nlargest(100, 'closure_probability').copy()\n",
    "\n",
    "print(\"Top 100 High-Risk Merchants:\")\n",
    "print(\"=\" * 80)\n",
    "print(f\"Probability range: {high_risk_merchants['closure_probability'].min():.4f} ~ \"\n",
    "      f\"{high_risk_merchants['closure_probability'].max():.4f}\")\n",
    "print(f\"\\nRisk level distribution:\")\n",
    "print(high_risk_merchants['risk_level'].value_counts())\n",
    "\n",
    "# 샘플 출력\n",
    "print(\"\\nTop 20 High-Risk Merchants:\")\n",
    "display(high_risk_merchants.head(20))"
   ]
  },
  {
   "cell_type": "markdown",
   "metadata": {},
   "source": [
    "## 7. 고위험 가맹점 특성 분석 (전체 비교)"
   ]
  },
  {
   "cell_type": "code",
   "execution_count": null,
   "metadata": {},
   "outputs": [],
   "source": [
    "# 고위험 가맹점 (확률 > 0.5)과 저위험 가맹점 비교\n",
    "high_risk_idx = df_risk[df_risk['closure_probability'] > 0.5].index\n",
    "low_risk_idx = df_risk[df_risk['closure_probability'] < 0.1].index\n",
    "\n",
    "print(f\"High risk merchants (prob > 0.5): {len(high_risk_idx):,}\")\n",
    "print(f\"Low risk merchants (prob < 0.1): {len(low_risk_idx):,}\")\n",
    "\n",
    "# 주요 feature 비교\n",
    "if len(high_risk_idx) > 0 and len(low_risk_idx) > 0:\n",
    "    # Feature importance 기반 상위 10개 feature 선택\n",
    "    feature_importance = pd.DataFrame({\n",
    "        'feature': feature_cols,\n",
    "        'feature_kr': [feature_names_kr[f] for f in feature_cols],  # 한글명 추가\n",
    "        'importance': model.feature_importances_\n",
    "    }).sort_values('importance', ascending=False)\n",
    "    \n",
    "    top_features = feature_importance.head(10)['feature'].tolist()\n",
    "    top_features_kr = feature_importance.head(10)['feature_kr'].tolist()\n",
    "    \n",
    "    # 비교 테이블\n",
    "    comparison = pd.DataFrame({\n",
    "        '항목명': top_features_kr,\n",
    "        '고위험 평균': X_active.loc[high_risk_idx, top_features].mean().values,\n",
    "        '저위험 평균': X_active.loc[low_risk_idx, top_features].mean().values\n",
    "    })\n",
    "    comparison['차이 (%)'] = (\n",
    "        (comparison['고위험 평균'] - comparison['저위험 평균']) / \n",
    "        comparison['저위험 평균'] * 100\n",
    "    )\n",
    "    \n",
    "    print(\"\\nTop 10 Features Comparison (High Risk vs Low Risk):\")\n",
    "    display(comparison.round(2))"
   ]
  },
  {
   "cell_type": "markdown",
   "metadata": {},
   "source": [
    "## 8. SHAP 분석: 고위험 가맹점의 위험 요인"
   ]
  },
  {
   "cell_type": "code",
   "execution_count": null,
   "metadata": {},
   "outputs": [],
   "source": [
    "import shap\n",
    "\n",
    "# SHAP explainer 생성\n",
    "print(\"Creating SHAP explainer...\")\n",
    "explainer = shap.TreeExplainer(model)\n",
    "\n",
    "# 고위험 가맹점 (top 20) SHAP 값 계산\n",
    "top_20_idx = high_risk_merchants.head(20).index\n",
    "X_top20 = X_active.loc[top_20_idx]\n",
    "\n",
    "print(\"Calculating SHAP values for top 20 high-risk merchants...\")\n",
    "shap_values = explainer.shap_values(X_top20)\n",
    "\n",
    "print(\"✓ SHAP analysis completed\")"
   ]
  },
  {
   "cell_type": "code",
   "execution_count": null,
   "metadata": {},
   "outputs": [],
   "source": [
    "# 각 가맹점의 주요 위험 요인 분석\n",
    "def analyze_risk_factors(merchant_idx, shap_idx, top_n=10):\n",
    "    \"\"\"개별 가맹점의 주요 위험 요인 분석\"\"\"\n",
    "    merchant_id = df_risk.loc[merchant_idx, 'ENCODED_MCT']\n",
    "    risk_prob = df_risk.loc[merchant_idx, 'closure_probability']\n",
    "    \n",
    "    # SHAP 값 추출\n",
    "    shap_contribution = pd.DataFrame({\n",
    "        'feature': feature_cols,\n",
    "        'feature_kr': [feature_names_kr[f] for f in feature_cols],  # 한글명 추가\n",
    "        'shap_value': shap_values[shap_idx],\n",
    "        'feature_value': X_active.loc[merchant_idx].values\n",
    "    })\n",
    "    \n",
    "    # 절대값 기준 상위 N개 feature\n",
    "    shap_contribution['abs_shap'] = shap_contribution['shap_value'].abs()\n",
    "    top_factors = shap_contribution.nlargest(top_n, 'abs_shap')\n",
    "    \n",
    "    return merchant_id, risk_prob, top_factors\n",
    "\n",
    "# Top 5 고위험 가맹점 분석\n",
    "print(\"=\" * 100)\n",
    "print(\"TOP 5 HIGH-RISK MERCHANTS - RISK FACTORS ANALYSIS\")\n",
    "print(\"=\" * 100)\n",
    "\n",
    "for i in range(min(5, len(high_risk_merchants))):\n",
    "    merchant_idx = high_risk_merchants.index[i]\n",
    "    merchant_id, risk_prob, factors = analyze_risk_factors(merchant_idx, i, top_n=10)\n",
    "    \n",
    "    print(f\"\\n[Rank {i+1}] Merchant ID: {merchant_id}\")\n",
    "    print(f\"Closure Probability: {risk_prob:.2%}\")\n",
    "    print(f\"\\nTop 10 Risk Factors:\")\n",
    "    print(\"-\" * 100)\n",
    "    \n",
    "    for j, (_, row) in enumerate(factors.iterrows(), 1):\n",
    "        impact = \"↑ 위험 증가\" if row['shap_value'] > 0 else \"↓ 위험 감소\"\n",
    "        print(f\"{j:2d}. {row['feature_kr']:40s} | 값: {row['feature_value']:8.2f} | \"\n",
    "              f\"SHAP: {row['shap_value']:+7.4f} | {impact}\")\n",
    "    print(\"-\" * 100)"
   ]
  },
  {
   "cell_type": "code",
   "execution_count": null,
   "metadata": {},
   "outputs": [],
   "source": [
    "# SHAP 시각화: Top 3 고위험 가맹점\n",
    "print(\"SHAP Waterfall Plots for Top 3 High-Risk Merchants:\")\n",
    "print(\"=\" * 80)\n",
    "\n",
    "# 한글 feature 이름 리스트\n",
    "feature_names_kr_list = [feature_names_kr[f] for f in feature_cols]\n",
    "\n",
    "for i in range(min(3, len(high_risk_merchants))):\n",
    "    merchant_idx = high_risk_merchants.index[i]\n",
    "    merchant_id = df_risk.loc[merchant_idx, 'ENCODED_MCT']\n",
    "    risk_prob = df_risk.loc[merchant_idx, 'closure_probability']\n",
    "    \n",
    "    print(f\"\\n[Rank {i+1}] {merchant_id} (Risk: {risk_prob:.2%})\")\n",
    "    \n",
    "    # 개별 waterfall plot (한글 feature 이름 사용)\n",
    "    shap.plots.waterfall(\n",
    "        shap.Explanation(\n",
    "            values=shap_values[i],\n",
    "            base_values=explainer.expected_value,\n",
    "            data=X_top20.iloc[i].values,\n",
    "            feature_names=feature_names_kr_list  # 한글 이름 사용\n",
    "        ),\n",
    "        max_display=10,\n",
    "        show=True\n",
    "    )"
   ]
  },
  {
   "cell_type": "markdown",
   "metadata": {},
   "source": [
    "## 9. 고위험 가맹점 위험 요인 저장"
   ]
  },
  {
   "cell_type": "code",
   "execution_count": null,
   "metadata": {},
   "outputs": [],
   "source": [
    "# 고위험 가맹점 위험 요인 저장\n",
    "risk_factors_list = []\n",
    "\n",
    "for i in range(min(20, len(high_risk_merchants))):\n",
    "    merchant_idx = high_risk_merchants.index[i]\n",
    "    merchant_id, risk_prob, factors = analyze_risk_factors(merchant_idx, i, top_n=10)\n",
    "    \n",
    "    # 위험 요인 정리\n",
    "    factors_dict = {\n",
    "        'merchant_id': merchant_id,\n",
    "        'closure_probability': float(risk_prob),\n",
    "        'risk_factors': []\n",
    "    }\n",
    "    \n",
    "    for _, row in factors.iterrows():\n",
    "        factors_dict['risk_factors'].append({\n",
    "            'feature': row['feature'],\n",
    "            'feature_kr': row['feature_kr'],  # 한글명 추가\n",
    "            'value': float(row['feature_value']),\n",
    "            'shap_value': float(row['shap_value']),\n",
    "            'impact': 'increase' if row['shap_value'] > 0 else 'decrease'\n",
    "        })\n",
    "    \n",
    "    risk_factors_list.append(factors_dict)\n",
    "\n",
    "# 데이터 저장 디렉토리\n",
    "output_dir = Path('../data/predictions')\n",
    "output_dir.mkdir(exist_ok=True)\n",
    "\n",
    "# JSON 파일로 저장\n",
    "import json\n",
    "with open(output_dir / 'high_risk_factors.json', 'w', encoding='utf-8') as f:\n",
    "    json.dump(risk_factors_list, f, indent=2, ensure_ascii=False)\n",
    "\n",
    "print(f\"✓ Saved: {output_dir / 'high_risk_factors.json'}\")\n",
    "print(f\"  Analyzed {len(risk_factors_list)} high-risk merchants\")"
   ]
  },
  {
   "cell_type": "markdown",
   "metadata": {},
   "source": [
    "## 10. 전체 예측 결과 저장"
   ]
  },
  {
   "cell_type": "code",
   "execution_count": null,
   "metadata": {},
   "outputs": [],
   "source": [
    "# 전체 위험도 예측 결과 저장\n",
    "df_risk_full = df_risk.sort_values('closure_probability', ascending=False)\n",
    "df_risk_full.to_csv(output_dir / 'merchant_risk_scores.csv', index=False)\n",
    "print(f\"✓ Saved: {output_dir / 'merchant_risk_scores.csv'}\")\n",
    "\n",
    "# 고위험 가맹점 리스트 저장 (확률 > 0.5)\n",
    "high_risk_list = df_risk[df_risk['closure_probability'] > 0.5].sort_values(\n",
    "    'closure_probability', ascending=False\n",
    ")\n",
    "high_risk_list.to_csv(output_dir / 'high_risk_merchants.csv', index=False)\n",
    "print(f\"✓ Saved: {output_dir / 'high_risk_merchants.csv'}\")\n",
    "print(f\"  High risk merchants: {len(high_risk_list):,}\")\n",
    "\n",
    "# 요약 통계 저장\n",
    "summary = {\n",
    "    'prediction_date': str(latest_month),\n",
    "    'total_active_merchants': int(len(df_active)),\n",
    "    'risk_distribution': {str(k): int(v) for k, v in risk_dist.items()},\n",
    "    'high_risk_count': int(len(high_risk_list)),\n",
    "    'probability_stats': {\n",
    "        'mean': float(closure_probabilities.mean()),\n",
    "        'median': float(np.median(closure_probabilities)),\n",
    "        'std': float(closure_probabilities.std()),\n",
    "        'min': float(closure_probabilities.min()),\n",
    "        'max': float(closure_probabilities.max())\n",
    "    }\n",
    "}\n",
    "\n",
    "import json\n",
    "with open(output_dir / 'prediction_summary.json', 'w') as f:\n",
    "    json.dump(summary, f, indent=2, ensure_ascii=False)\n",
    "print(f\"✓ Saved: {output_dir / 'prediction_summary.json'}\")"
   ]
  },
  {
   "cell_type": "markdown",
   "metadata": {},
   "source": [
    "## 11. 결론\n",
    "\n",
    "### 완료된 작업\n",
    "- ✅ 최신 데이터(2024년 12월)에서 영업 중인 가맹점 추출\n",
    "- ✅ 학습된 모델로 폐업 확률 예측\n",
    "- ✅ 위험도 등급 부여 (Very Low ~ Very High)\n",
    "- ✅ **SHAP 분석을 통한 개별 가맹점 위험 요인 분석**\n",
    "- ✅ 고위험 가맹점 특성 비교 분석\n",
    "- ✅ 예측 결과 및 위험 요인 저장\n",
    "\n",
    "### 저장된 파일\n",
    "1. `merchant_risk_scores.csv`: 전체 가맹점 위험도 점수\n",
    "2. `high_risk_merchants.csv`: 고위험 가맹점 리스트 (확률 > 0.5)\n",
    "3. `high_risk_factors.json`: 개별 가맹점별 위험 요인 분석 (SHAP)\n",
    "4. `prediction_summary.json`: 전체 예측 요약 통계\n",
    "\n",
    "### 활용 방안\n",
    "1. **고위험 가맹점 모니터링**: 확률 > 0.5인 가맹점 집중 관리\n",
    "2. **조기 개입**: SHAP 분석 기반 위험 요인별 맞춤형 지원\n",
    "3. **리스크 관리**: 여신 심사, 보증 한도 조정 등\n",
    "4. **정기 업데이트**: 매월 새로운 데이터로 재예측"
   ]
  },
  {
   "cell_type": "code",
   "execution_count": null,
   "metadata": {},
   "outputs": [],
   "source": [
    "print(\"\\n\" + \"=\"*80)\n",
    "print(\"RISK PREDICTION COMPLETED\")\n",
    "print(\"=\"*80)\n",
    "print(f\"\\nTotal Active Merchants: {len(df_active):,}\")\n",
    "print(f\"High Risk Merchants (prob > 0.5): {len(high_risk_list):,}\")\n",
    "print(f\"\\nResults saved to: {output_dir}\")"
   ]
  }
 ],
 "metadata": {
  "kernelspec": {
   "display_name": "shinhan_202510",
   "language": "python",
   "name": "python3"
  },
  "language_info": {
   "codemirror_mode": {
    "name": "ipython",
    "version": 3
   },
   "file_extension": ".py",
   "mimetype": "text/x-python",
   "name": "python",
   "nbconvert_exporter": "python",
   "pygments_lexer": "ipython3",
   "version": "3.12.3"
  }
 },
 "nbformat": 4,
 "nbformat_minor": 4
}