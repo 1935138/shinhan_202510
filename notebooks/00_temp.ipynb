{
 "cells": [
  {
   "cell_type": "code",
   "execution_count": 2,
   "id": "10bf243f",
   "metadata": {},
   "outputs": [
    {
     "name": "stdout",
     "output_type": "stream",
     "text": [
      "NanumSquareRound\n",
      "NanumSquare_ac\n",
      "NanumSquare\n",
      "Ubuntu\n",
      "DejaVu Sans Mono\n",
      "Ubuntu Mono\n",
      "NanumBarunpen\n",
      "DejaVu Serif\n",
      "DejaVu Sans\n",
      "Nanum Pen Script\n",
      "NanumMyeongjo\n",
      "Ubuntu Sans\n",
      "NanumGothic\n",
      "Ubuntu Sans Mono\n",
      "NanumGothicCoding\n",
      "NanumMyeongjo YetHangul\n",
      "NanumMyeongjo Eco\n",
      "NanumBarunGothic\n",
      "Nanum Brush Script\n",
      "NanumBarunGothic YetHangul\n",
      "NanumGothic Eco\n"
     ]
    }
   ],
   "source": [
    "from matplotlib import font_manager\n",
    "\n",
    "# 시스템에 등록된 모든 폰트 경로\n",
    "font_list = font_manager.findSystemFonts(fontpaths=None, fontext='ttf')\n",
    "\n",
    "# 폰트 이름만 추출\n",
    "font_names = [font_manager.FontProperties(fname=fp).get_name() for fp in font_list]\n",
    "\n",
    "for font_name in set(font_names):\n",
    "    print(font_name)"
   ]
  }
 ],
 "metadata": {
  "kernelspec": {
   "display_name": "shinhan_202510",
   "language": "python",
   "name": "python3"
  },
  "language_info": {
   "codemirror_mode": {
    "name": "ipython",
    "version": 3
   },
   "file_extension": ".py",
   "mimetype": "text/x-python",
   "name": "python",
   "nbconvert_exporter": "python",
   "pygments_lexer": "ipython3",
   "version": "3.12.3"
  }
 },
 "nbformat": 4,
 "nbformat_minor": 5
}
