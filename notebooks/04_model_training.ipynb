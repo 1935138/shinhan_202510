{
 "cells": [
  {
   "cell_type": "markdown",
   "metadata": {},
   "source": [
    "# 모델 학습 및 평가 (Model Training & Evaluation)\n",
    "\n",
    "## 목표\n",
    "- 가맹점 폐업 예측 모델 학습\n",
    "- XGBoost, LightGBM 모델 비교\n",
    "- Hyperparameter tuning\n",
    "- Feature importance 분석\n",
    "- SHAP value 분석\n",
    "- 모델 평가 및 해석\n",
    "\n",
    "## 작업 내역\n",
    "1. 데이터 로드 및 전처리\n",
    "2. Train/Validation/Test Split (시계열 고려)\n",
    "3. 불균형 데이터 처리\n",
    "4. Baseline 모델 (XGBoost, LightGBM)\n",
    "5. Cross-validation\n",
    "6. Hyperparameter Tuning\n",
    "7. Feature Importance 분석\n",
    "8. SHAP Value 분석\n",
    "9. Ensemble 모델\n",
    "10. 최종 평가 및 모델 저장"
   ]
  },
  {
   "cell_type": "markdown",
   "metadata": {},
   "source": [
    "## 1. 환경 설정"
   ]
  },
  {
   "cell_type": "code",
   "execution_count": 1,
   "metadata": {},
   "outputs": [
    {
     "name": "stdout",
     "output_type": "stream",
     "text": [
      "Libraries loaded successfully\n"
     ]
    }
   ],
   "source": [
    "# 기본 라이브러리\n",
    "import pandas as pd\n",
    "import numpy as np\n",
    "import matplotlib.pyplot as plt\n",
    "import seaborn as sns\n",
    "from pathlib import Path\n",
    "import warnings\n",
    "warnings.filterwarnings('ignore')\n",
    "\n",
    "# 머신러닝 라이브러리\n",
    "from sklearn.model_selection import train_test_split, TimeSeriesSplit, cross_val_score\n",
    "from sklearn.metrics import (\n",
    "    classification_report, confusion_matrix, \n",
    "    roc_auc_score, precision_recall_curve, auc,\n",
    "    precision_score, recall_score, f1_score, average_precision_score\n",
    ")\n",
    "from sklearn.preprocessing import StandardScaler\n",
    "from imblearn.over_sampling import SMOTE\n",
    "from imblearn.under_sampling import RandomUnderSampler\n",
    "from imblearn.pipeline import Pipeline as ImbPipeline\n",
    "\n",
    "# 모델\n",
    "import xgboost as xgb\n",
    "import lightgbm as lgb\n",
    "\n",
    "# SHAP\n",
    "import shap\n",
    "\n",
    "# 시각화 설정\n",
    "plt.style.use('default')\n",
    "sns.set_palette('husl')\n",
    "plt.rcParams['figure.figsize'] = (12, 6)\n",
    "plt.rcParams['font.family'] = 'DejaVu Sans'\n",
    "\n",
    "# 출력 설정\n",
    "pd.set_option('display.max_columns', 100)\n",
    "pd.set_option('display.max_rows', 100)\n",
    "\n",
    "print(\"Libraries loaded successfully\")"
   ]
  },
  {
   "cell_type": "code",
   "execution_count": 2,
   "metadata": {},
   "outputs": [
    {
     "name": "stdout",
     "output_type": "stream",
     "text": [
      "Custom modules loaded successfully\n"
     ]
    }
   ],
   "source": [
    "# 커스텀 모듈 임포트\n",
    "import sys\n",
    "sys.path.append('..')\n",
    "\n",
    "from pipeline.models import (\n",
    "    XGBoostModel,\n",
    "    LightGBMModel,\n",
    "    EnsembleModel\n",
    ")\n",
    "from pipeline.evaluation import (\n",
    "    ModelEvaluator,\n",
    "    calculate_metrics,\n",
    "    plot_roc_curve,\n",
    "    plot_precision_recall_curve,\n",
    "    plot_confusion_matrix\n",
    ")\n",
    "\n",
    "print(\"Custom modules loaded successfully\")"
   ]
  },
  {
   "cell_type": "markdown",
   "metadata": {},
   "source": [
    "## 2. 데이터 로드"
   ]
  },
  {
   "cell_type": "code",
   "execution_count": 3,
   "metadata": {},
   "outputs": [
    {
     "name": "stdout",
     "output_type": "stream",
     "text": [
      "Loaded data shape: (86590, 182)\n",
      "\n",
      "Columns: 182\n",
      "Rows: 86,590\n",
      "Unique merchants: 4,185\n",
      "Date range: 202301 ~ 202412\n"
     ]
    }
   ],
   "source": [
    "# Feature engineering 완료된 데이터 로드\n",
    "data_path = Path('../data/processed/featured_data.csv')\n",
    "\n",
    "if not data_path.exists():\n",
    "    print(\"Warning: featured_data.csv not found. Using preprocessed_data.csv instead.\")\n",
    "    data_path = Path('../data/processed/preprocessed_data.csv')\n",
    "\n",
    "df = pd.read_csv(data_path)\n",
    "\n",
    "print(f\"Loaded data shape: {df.shape}\")\n",
    "print(f\"\\nColumns: {len(df.columns)}\")\n",
    "print(f\"Rows: {len(df):,}\")\n",
    "print(f\"Unique merchants: {df['ENCODED_MCT'].nunique():,}\")\n",
    "print(f\"Date range: {df['TA_YM'].min()} ~ {df['TA_YM'].max()}\")"
   ]
  },
  {
   "cell_type": "code",
   "execution_count": 4,
   "metadata": {},
   "outputs": [
    {
     "name": "stdout",
     "output_type": "stream",
     "text": [
      "\n",
      "Target variable: is_closed\n",
      "is_closed\n",
      "0    84256\n",
      "1     2334\n",
      "Name: count, dtype: int64\n",
      "\n",
      "Positive rate: 2.70%\n"
     ]
    },
    {
     "data": {
      "image/png": "[encoded data removed]",
      "text/plain": [
       "<Figure size 800x500 with 1 Axes>"
      ]
     },
     "metadata": {},
     "output_type": "display_data"
    }
   ],
   "source": [
    "# 타겟 변수 분포 확인\n",
    "target_col = 'is_closed'\n",
    "\n",
    "if target_col in df.columns:\n",
    "    print(f\"\\nTarget variable: {target_col}\")\n",
    "    print(df[target_col].value_counts())\n",
    "    print(f\"\\nPositive rate: {df[target_col].mean() * 100:.2f}%\")\n",
    "    \n",
    "    # 시각화\n",
    "    fig, ax = plt.subplots(figsize=(8, 5))\n",
    "    counts = df[target_col].value_counts()\n",
    "    ax.bar(['Not Closed (0)', 'Closed (1)'], counts.values)\n",
    "    ax.set_ylabel('Count')\n",
    "    ax.set_title(f'Target Distribution: {target_col}')\n",
    "    for i, v in enumerate(counts.values):\n",
    "        ax.text(i, v, f'{v:,}\\n({v/len(df)*100:.1f}%)', ha='center', va='bottom')\n",
    "    plt.tight_layout()\n",
    "    plt.show()\n",
    "else:\n",
    "    print(f\"Warning: Target column '{target_col}' not found!\")"
   ]
  },
  {
   "cell_type": "markdown",
   "metadata": {},
   "source": [
    "## 3. Feature & Target 분리"
   ]
  },
  {
   "cell_type": "code",
   "execution_count": 5,
   "metadata": {},
   "outputs": [
    {
     "name": "stdout",
     "output_type": "stream",
     "text": [
      "Total features: 168\n",
      "\n",
      "Feature columns (first 20): ['MCT_OPE_MS_CN', 'RC_M1_SAA', 'RC_M1_TO_UE_CT', 'RC_M1_UE_CUS_CN', 'RC_M1_AV_NP_AT', 'APV_CE_RAT', 'DLV_SAA_RAT', 'M1_SME_RY_SAA_RAT', 'M1_SME_RY_CNT_RAT', 'M12_SME_RY_SAA_PCE_RT', 'M12_SME_BZN_SAA_PCE_RT', 'M12_SME_RY_ME_MCT_RAT', 'M12_SME_BZN_ME_MCT_RAT', 'M12_MAL_1020_RAT', 'M12_MAL_30_RAT', 'M12_MAL_40_RAT', 'M12_MAL_50_RAT', 'M12_MAL_60_RAT', 'M12_FME_1020_RAT', 'M12_FME_30_RAT']\n"
     ]
    }
   ],
   "source": [
    "# 제외할 컬럼 정의\n",
    "exclude_cols = [\n",
    "    'ENCODED_MCT',  # ID\n",
    "    'TA_YM',  # Date\n",
    "    'is_closed',  # Target\n",
    "    'will_close_1m',  # Future target\n",
    "    'will_close_3m',  # Future target\n",
    "    'months_until_close',  # Leakage\n",
    "    'MCT_ME_D',  # Close date (leakage)\n",
    "    'MCT_BSE_AR',  # Text\n",
    "    'MCT_NM',  # Text\n",
    "    'MCT_BRD_NUM',  # Text\n",
    "    'MCT_SIGUNGU_NM',  # Text\n",
    "    'HPSN_MCT_ZCD_NM',  # Text\n",
    "    'HPSN_MCT_BZN_CD_NM',  # Text\n",
    "    'ARE_D',  # Date\n",
    "]\n",
    "\n",
    "# Feature 컬럼 선택 (수치형만)\n",
    "feature_cols = [col for col in df.columns if col not in exclude_cols]\n",
    "feature_cols = df[feature_cols].select_dtypes(include=[np.number]).columns.tolist()\n",
    "\n",
    "print(f\"Total features: {len(feature_cols)}\")\n",
    "print(f\"\\nFeature columns (first 20): {feature_cols[:20]}\")"
   ]
  },
  {
   "cell_type": "code",
   "execution_count": 6,
   "metadata": {},
   "outputs": [
    {
     "name": "stdout",
     "output_type": "stream",
     "text": [
      "X shape: (86590, 168)\n",
      "y shape: (86590,)\n",
      "\n",
      "y value counts:\n",
      "is_closed\n",
      "0    84256\n",
      "1     2334\n",
      "Name: count, dtype: int64\n"
     ]
    }
   ],
   "source": [
    "# X, y 분리\n",
    "X = df[feature_cols].copy()\n",
    "y = df[target_col].copy()\n",
    "\n",
    "print(f\"X shape: {X.shape}\")\n",
    "print(f\"y shape: {y.shape}\")\n",
    "print(f\"\\ny value counts:\")\n",
    "print(y.value_counts())"
   ]
  },
  {
   "cell_type": "code",
   "execution_count": 7,
   "metadata": {},
   "outputs": [
    {
     "name": "stdout",
     "output_type": "stream",
     "text": [
      "\n",
      "Columns with missing values: 109\n",
      "\n",
      "Top 10 columns with highest missing ratio:\n",
      "MCT_UE_CLN_REU_RAT_change_12m    54.603303\n",
      "M1_SME_RY_SAA_RAT_lag_12m        54.259152\n",
      "RC_M1_SAA_lag_12m                54.259152\n",
      "RC_M1_UE_CUS_CN_lag_12m          54.259152\n",
      "MCT_OPE_MS_CN_lag_12m            54.259152\n",
      "MCT_UE_CLN_NEW_RAT_lag_12m       54.259152\n",
      "RC_M1_SAA_change_12m             54.259152\n",
      "RC_M1_UE_CUS_CN_change_12m       54.259152\n",
      "RC_M1_TO_UE_CT_change_12m        54.259152\n",
      "RC_M1_AV_NP_AT_lag_12m           54.259152\n",
      "dtype: float64\n"
     ]
    }
   ],
   "source": [
    "# 결측값 확인\n",
    "missing_ratio = X.isnull().sum() / len(X) * 100\n",
    "missing_cols = missing_ratio[missing_ratio > 0].sort_values(ascending=False)\n",
    "\n",
    "if len(missing_cols) > 0:\n",
    "    print(f\"\\nColumns with missing values: {len(missing_cols)}\")\n",
    "    print(f\"\\nTop 10 columns with highest missing ratio:\")\n",
    "    print(missing_cols.head(10))\n",
    "else:\n",
    "    print(\"\\nNo missing values found\")"
   ]
  },
  {
   "cell_type": "code",
   "execution_count": 8,
   "metadata": {},
   "outputs": [
    {
     "name": "stdout",
     "output_type": "stream",
     "text": [
      "\n",
      "Filling missing values with median...\n",
      "Missing values after filling: 0\n"
     ]
    }
   ],
   "source": [
    "# 결측값 처리 (간단히 중앙값으로 대체)\n",
    "if X.isnull().sum().sum() > 0:\n",
    "    print(\"\\nFilling missing values with median...\")\n",
    "    X = X.fillna(X.median())\n",
    "    print(f\"Missing values after filling: {X.isnull().sum().sum()}\")"
   ]
  },
  {
   "cell_type": "markdown",
   "metadata": {},
   "source": [
    "## 4. Train/Validation/Test Split\n",
    "\n",
    "시계열 데이터이므로 시간 순서를 고려하여 분할합니다.\n",
    "- Train: 2023년 데이터\n",
    "- Validation: 2024년 1~6월\n",
    "- Test: 2024년 7~12월"
   ]
  },
  {
   "cell_type": "code",
   "execution_count": 9,
   "metadata": {},
   "outputs": [
    {
     "name": "stdout",
     "output_type": "stream",
     "text": [
      "Data split completed:\n",
      "\n",
      "Train: 39,793 samples, Positive: 1,150 (2.89%)\n",
      "Val:   22,487 samples, Positive: 600 (2.67%)\n",
      "Test:  24,310 samples, Positive: 584 (2.40%)\n"
     ]
    }
   ],
   "source": [
    "# 날짜 기반 분할\n",
    "df_with_features = df[['TA_YM', target_col]].join(X)\n",
    "\n",
    "# Train: 2023 (202301 ~ 202312)\n",
    "train_mask = (df_with_features['TA_YM'] >= 202301) & (df_with_features['TA_YM'] <= 202312)\n",
    "\n",
    "# Validation: 2024 Jan-Jun (202401 ~ 202406)\n",
    "val_mask = (df_with_features['TA_YM'] >= 202401) & (df_with_features['TA_YM'] <= 202406)\n",
    "\n",
    "# Test: 2024 Jul-Dec (202407 ~ 202412)\n",
    "test_mask = (df_with_features['TA_YM'] >= 202407) & (df_with_features['TA_YM'] <= 202412)\n",
    "\n",
    "X_train = X[train_mask]\n",
    "y_train = y[train_mask]\n",
    "\n",
    "X_val = X[val_mask]\n",
    "y_val = y[val_mask]\n",
    "\n",
    "X_test = X[test_mask]\n",
    "y_test = y[test_mask]\n",
    "\n",
    "print(\"Data split completed:\")\n",
    "print(f\"\\nTrain: {X_train.shape[0]:,} samples, Positive: {y_train.sum():,} ({y_train.mean()*100:.2f}%)\")\n",
    "print(f\"Val:   {X_val.shape[0]:,} samples, Positive: {y_val.sum():,} ({y_val.mean()*100:.2f}%)\")\n",
    "print(f\"Test:  {X_test.shape[0]:,} samples, Positive: {y_test.sum():,} ({y_test.mean()*100:.2f}%)\")"
   ]
  },
  {
   "cell_type": "markdown",
   "metadata": {},
   "source": [
    "## 5. Baseline Models\n",
    "\n",
    "### 5.1 XGBoost Baseline"
   ]
  },
  {
   "cell_type": "code",
   "execution_count": 10,
   "metadata": {},
   "outputs": [
    {
     "name": "stdout",
     "output_type": "stream",
     "text": [
      "Scale pos weight: 33.60\n",
      "XGBoost model initialized\n"
     ]
    }
   ],
   "source": [
    "# XGBoost 모델 초기화 (불균형 데이터 처리)\n",
    "scale_pos_weight = (y_train == 0).sum() / (y_train == 1).sum()\n",
    "print(f\"Scale pos weight: {scale_pos_weight:.2f}\")\n",
    "\n",
    "xgb_model = xgb.XGBClassifier(\n",
    "    objective='binary:logistic',\n",
    "    scale_pos_weight=scale_pos_weight,\n",
    "    max_depth=6,\n",
    "    learning_rate=0.1,\n",
    "    n_estimators=100,\n",
    "    random_state=42,\n",
    "    eval_metric='logloss'\n",
    ")\n",
    "\n",
    "print(\"XGBoost model initialized\")"
   ]
  },
  {
   "cell_type": "code",
   "execution_count": 11,
   "metadata": {},
   "outputs": [
    {
     "name": "stdout",
     "output_type": "stream",
     "text": [
      "Training XGBoost model...\n"
     ]
    },
    {
     "ename": "XGBoostError",
     "evalue": "[00:19:08] /workspace/src/data/gradient_index.h:100: Check failed: valid: Input data contains `inf` or a value too large, while `missing` is not set to `inf`\nStack trace:\n  [bt] (0) /home/dlsvud/project/shinhan_202510/.venv/lib/python3.12/site-packages/xgboost/lib/libxgboost.so(+0x2a6e7c) [0x7d5fe0ea6e7c]\n  [bt] (1) /home/dlsvud/project/shinhan_202510/.venv/lib/python3.12/site-packages/xgboost/lib/libxgboost.so(+0x5d7630) [0x7d5fe11d7630]\n  [bt] (2) /home/dlsvud/project/shinhan_202510/.venv/lib/python3.12/site-packages/xgboost/lib/libxgboost.so(+0x5eb916) [0x7d5fe11eb916]\n  [bt] (3) /home/dlsvud/project/shinhan_202510/.venv/lib/python3.12/site-packages/xgboost/lib/libxgboost.so(+0x5e96cb) [0x7d5fe11e96cb]\n  [bt] (4) /home/dlsvud/project/shinhan_202510/.venv/lib/python3.12/site-packages/xgboost/lib/libxgboost.so(+0x5ea8f9) [0x7d5fe11ea8f9]\n  [bt] (5) /home/dlsvud/project/shinhan_202510/.venv/lib/python3.12/site-packages/xgboost/lib/libxgboost.so(+0x57b4f1) [0x7d5fe117b4f1]\n  [bt] (6) /home/dlsvud/project/shinhan_202510/.venv/lib/python3.12/site-packages/xgboost/lib/libxgboost.so(XGQuantileDMatrixCreateFromCallback+0x178) [0x7d5fe0db9378]\n  [bt] (7) /lib/x86_64-linux-gnu/libffi.so.8(+0x7b16) [0x7d606db2db16]\n  [bt] (8) /lib/x86_64-linux-gnu/libffi.so.8(+0x43ef) [0x7d606db2a3ef]\n\n",
     "output_type": "error",
     "traceback": [
      "\u001b[31m---------------------------------------------------------------------------\u001b[39m",
      "\u001b[31mXGBoostError\u001b[39m                              Traceback (most recent call last)",
      "\u001b[36mCell\u001b[39m\u001b[36m \u001b[39m\u001b[32mIn[11]\u001b[39m\u001b[32m, line 4\u001b[39m\n\u001b[32m      1\u001b[39m \u001b[38;5;66;03m# XGBoost 학습\u001b[39;00m\n\u001b[32m      2\u001b[39m \u001b[38;5;28mprint\u001b[39m(\u001b[33m\"\u001b[39m\u001b[33mTraining XGBoost model...\u001b[39m\u001b[33m\"\u001b[39m)\n\u001b[32m----> \u001b[39m\u001b[32m4\u001b[39m \u001b[43mxgb_model\u001b[49m\u001b[43m.\u001b[49m\u001b[43mfit\u001b[49m\u001b[43m(\u001b[49m\n\u001b[32m      5\u001b[39m \u001b[43m    \u001b[49m\u001b[43mX_train\u001b[49m\u001b[43m,\u001b[49m\u001b[43m \u001b[49m\u001b[43my_train\u001b[49m\u001b[43m,\u001b[49m\n\u001b[32m      6\u001b[39m \u001b[43m    \u001b[49m\u001b[43meval_set\u001b[49m\u001b[43m=\u001b[49m\u001b[43m[\u001b[49m\u001b[43m(\u001b[49m\u001b[43mX_train\u001b[49m\u001b[43m,\u001b[49m\u001b[43m \u001b[49m\u001b[43my_train\u001b[49m\u001b[43m)\u001b[49m\u001b[43m,\u001b[49m\u001b[43m \u001b[49m\u001b[43m(\u001b[49m\u001b[43mX_val\u001b[49m\u001b[43m,\u001b[49m\u001b[43m \u001b[49m\u001b[43my_val\u001b[49m\u001b[43m)\u001b[49m\u001b[43m]\u001b[49m\u001b[43m,\u001b[49m\n\u001b[32m      7\u001b[39m \u001b[43m    \u001b[49m\u001b[43mverbose\u001b[49m\u001b[43m=\u001b[49m\u001b[38;5;28;43;01mFalse\u001b[39;49;00m\n\u001b[32m      8\u001b[39m \u001b[43m)\u001b[49m\n\u001b[32m     10\u001b[39m \u001b[38;5;28mprint\u001b[39m(\u001b[33m\"\u001b[39m\u001b[38;5;130;01m\\n\u001b[39;00m\u001b[33mXGBoost training completed\u001b[39m\u001b[33m\"\u001b[39m)\n",
      "\u001b[36mFile \u001b[39m\u001b[32m~/project/shinhan_202510/.venv/lib/python3.12/site-packages/xgboost/core.py:729\u001b[39m, in \u001b[36mrequire_keyword_args.<locals>.throw_if.<locals>.inner_f\u001b[39m\u001b[34m(*args, **kwargs)\u001b[39m\n\u001b[32m    727\u001b[39m \u001b[38;5;28;01mfor\u001b[39;00m k, arg \u001b[38;5;129;01min\u001b[39;00m \u001b[38;5;28mzip\u001b[39m(sig.parameters, args):\n\u001b[32m    728\u001b[39m     kwargs[k] = arg\n\u001b[32m--> \u001b[39m\u001b[32m729\u001b[39m \u001b[38;5;28;01mreturn\u001b[39;00m \u001b[43mfunc\u001b[49m\u001b[43m(\u001b[49m\u001b[43m*\u001b[49m\u001b[43m*\u001b[49m\u001b[43mkwargs\u001b[49m\u001b[43m)\u001b[49m\n",
      "\u001b[36mFile \u001b[39m\u001b[32m~/project/shinhan_202510/.venv/lib/python3.12/site-packages/xgboost/sklearn.py:1664\u001b[39m, in \u001b[36mXGBClassifier.fit\u001b[39m\u001b[34m(self, X, y, sample_weight, base_margin, eval_set, verbose, xgb_model, sample_weight_eval_set, base_margin_eval_set, feature_weights)\u001b[39m\n\u001b[32m   1659\u001b[39m     params[\u001b[33m\"\u001b[39m\u001b[33mnum_class\u001b[39m\u001b[33m\"\u001b[39m] = \u001b[38;5;28mself\u001b[39m.n_classes_\n\u001b[32m   1661\u001b[39m model, metric, params, feature_weights = \u001b[38;5;28mself\u001b[39m._configure_fit(\n\u001b[32m   1662\u001b[39m     xgb_model, params, feature_weights\n\u001b[32m   1663\u001b[39m )\n\u001b[32m-> \u001b[39m\u001b[32m1664\u001b[39m train_dmatrix, evals = \u001b[43m_wrap_evaluation_matrices\u001b[49m\u001b[43m(\u001b[49m\n\u001b[32m   1665\u001b[39m \u001b[43m    \u001b[49m\u001b[43mmissing\u001b[49m\u001b[43m=\u001b[49m\u001b[38;5;28;43mself\u001b[39;49m\u001b[43m.\u001b[49m\u001b[43mmissing\u001b[49m\u001b[43m,\u001b[49m\n\u001b[32m   1666\u001b[39m \u001b[43m    \u001b[49m\u001b[43mX\u001b[49m\u001b[43m=\u001b[49m\u001b[43mX\u001b[49m\u001b[43m,\u001b[49m\n\u001b[32m   1667\u001b[39m \u001b[43m    \u001b[49m\u001b[43my\u001b[49m\u001b[43m=\u001b[49m\u001b[43my\u001b[49m\u001b[43m,\u001b[49m\n\u001b[32m   1668\u001b[39m \u001b[43m    \u001b[49m\u001b[43mgroup\u001b[49m\u001b[43m=\u001b[49m\u001b[38;5;28;43;01mNone\u001b[39;49;00m\u001b[43m,\u001b[49m\n\u001b[32m   1669\u001b[39m \u001b[43m    \u001b[49m\u001b[43mqid\u001b[49m\u001b[43m=\u001b[49m\u001b[38;5;28;43;01mNone\u001b[39;49;00m\u001b[43m,\u001b[49m\n\u001b[32m   1670\u001b[39m \u001b[43m    \u001b[49m\u001b[43msample_weight\u001b[49m\u001b[43m=\u001b[49m\u001b[43msample_weight\u001b[49m\u001b[43m,\u001b[49m\n\u001b[32m   1671\u001b[39m \u001b[43m    \u001b[49m\u001b[43mbase_margin\u001b[49m\u001b[43m=\u001b[49m\u001b[43mbase_margin\u001b[49m\u001b[43m,\u001b[49m\n\u001b[32m   1672\u001b[39m \u001b[43m    \u001b[49m\u001b[43mfeature_weights\u001b[49m\u001b[43m=\u001b[49m\u001b[43mfeature_weights\u001b[49m\u001b[43m,\u001b[49m\n\u001b[32m   1673\u001b[39m \u001b[43m    \u001b[49m\u001b[43meval_set\u001b[49m\u001b[43m=\u001b[49m\u001b[43meval_set\u001b[49m\u001b[43m,\u001b[49m\n\u001b[32m   1674\u001b[39m \u001b[43m    \u001b[49m\u001b[43msample_weight_eval_set\u001b[49m\u001b[43m=\u001b[49m\u001b[43msample_weight_eval_set\u001b[49m\u001b[43m,\u001b[49m\n\u001b[32m   1675\u001b[39m \u001b[43m    \u001b[49m\u001b[43mbase_margin_eval_set\u001b[49m\u001b[43m=\u001b[49m\u001b[43mbase_margin_eval_set\u001b[49m\u001b[43m,\u001b[49m\n\u001b[32m   1676\u001b[39m \u001b[43m    \u001b[49m\u001b[43meval_group\u001b[49m\u001b[43m=\u001b[49m\u001b[38;5;28;43;01mNone\u001b[39;49;00m\u001b[43m,\u001b[49m\n\u001b[32m   1677\u001b[39m \u001b[43m    \u001b[49m\u001b[43meval_qid\u001b[49m\u001b[43m=\u001b[49m\u001b[38;5;28;43;01mNone\u001b[39;49;00m\u001b[43m,\u001b[49m\n\u001b[32m   1678\u001b[39m \u001b[43m    \u001b[49m\u001b[43mcreate_dmatrix\u001b[49m\u001b[43m=\u001b[49m\u001b[38;5;28;43mself\u001b[39;49m\u001b[43m.\u001b[49m\u001b[43m_create_dmatrix\u001b[49m\u001b[43m,\u001b[49m\n\u001b[32m   1679\u001b[39m \u001b[43m    \u001b[49m\u001b[43menable_categorical\u001b[49m\u001b[43m=\u001b[49m\u001b[38;5;28;43mself\u001b[39;49m\u001b[43m.\u001b[49m\u001b[43menable_categorical\u001b[49m\u001b[43m,\u001b[49m\n\u001b[32m   1680\u001b[39m \u001b[43m    \u001b[49m\u001b[43mfeature_types\u001b[49m\u001b[43m=\u001b[49m\u001b[38;5;28;43mself\u001b[39;49m\u001b[43m.\u001b[49m\u001b[43mfeature_types\u001b[49m\u001b[43m,\u001b[49m\n\u001b[32m   1681\u001b[39m \u001b[43m\u001b[49m\u001b[43m)\u001b[49m\n\u001b[32m   1683\u001b[39m \u001b[38;5;28mself\u001b[39m._Booster = train(\n\u001b[32m   1684\u001b[39m     params,\n\u001b[32m   1685\u001b[39m     train_dmatrix,\n\u001b[32m   (...)\u001b[39m\u001b[32m   1694\u001b[39m     callbacks=\u001b[38;5;28mself\u001b[39m.callbacks,\n\u001b[32m   1695\u001b[39m )\n\u001b[32m   1697\u001b[39m \u001b[38;5;28;01mif\u001b[39;00m \u001b[38;5;129;01mnot\u001b[39;00m \u001b[38;5;28mcallable\u001b[39m(\u001b[38;5;28mself\u001b[39m.objective):\n",
      "\u001b[36mFile \u001b[39m\u001b[32m~/project/shinhan_202510/.venv/lib/python3.12/site-packages/xgboost/sklearn.py:628\u001b[39m, in \u001b[36m_wrap_evaluation_matrices\u001b[39m\u001b[34m(missing, X, y, group, qid, sample_weight, base_margin, feature_weights, eval_set, sample_weight_eval_set, base_margin_eval_set, eval_group, eval_qid, create_dmatrix, enable_categorical, feature_types)\u001b[39m\n\u001b[32m    607\u001b[39m \u001b[38;5;28;01mdef\u001b[39;00m\u001b[38;5;250m \u001b[39m\u001b[34m_wrap_evaluation_matrices\u001b[39m(\n\u001b[32m    608\u001b[39m     *,\n\u001b[32m    609\u001b[39m     missing: \u001b[38;5;28mfloat\u001b[39m,\n\u001b[32m   (...)\u001b[39m\u001b[32m    624\u001b[39m     feature_types: Optional[FeatureTypes],\n\u001b[32m    625\u001b[39m ) -> Tuple[Any, List[Tuple[Any, \u001b[38;5;28mstr\u001b[39m]]]:\n\u001b[32m    626\u001b[39m \u001b[38;5;250m    \u001b[39m\u001b[33;03m\"\"\"Convert array_like evaluation matrices into DMatrix.  Perform validation on the\u001b[39;00m\n\u001b[32m    627\u001b[39m \u001b[33;03m    way.\"\"\"\u001b[39;00m\n\u001b[32m--> \u001b[39m\u001b[32m628\u001b[39m     train_dmatrix = \u001b[43mcreate_dmatrix\u001b[49m\u001b[43m(\u001b[49m\n\u001b[32m    629\u001b[39m \u001b[43m        \u001b[49m\u001b[43mdata\u001b[49m\u001b[43m=\u001b[49m\u001b[43mX\u001b[49m\u001b[43m,\u001b[49m\n\u001b[32m    630\u001b[39m \u001b[43m        \u001b[49m\u001b[43mlabel\u001b[49m\u001b[43m=\u001b[49m\u001b[43my\u001b[49m\u001b[43m,\u001b[49m\n\u001b[32m    631\u001b[39m \u001b[43m        \u001b[49m\u001b[43mgroup\u001b[49m\u001b[43m=\u001b[49m\u001b[43mgroup\u001b[49m\u001b[43m,\u001b[49m\n\u001b[32m    632\u001b[39m \u001b[43m        \u001b[49m\u001b[43mqid\u001b[49m\u001b[43m=\u001b[49m\u001b[43mqid\u001b[49m\u001b[43m,\u001b[49m\n\u001b[32m    633\u001b[39m \u001b[43m        \u001b[49m\u001b[43mweight\u001b[49m\u001b[43m=\u001b[49m\u001b[43msample_weight\u001b[49m\u001b[43m,\u001b[49m\n\u001b[32m    634\u001b[39m \u001b[43m        \u001b[49m\u001b[43mbase_margin\u001b[49m\u001b[43m=\u001b[49m\u001b[43mbase_margin\u001b[49m\u001b[43m,\u001b[49m\n\u001b[32m    635\u001b[39m \u001b[43m        \u001b[49m\u001b[43mfeature_weights\u001b[49m\u001b[43m=\u001b[49m\u001b[43mfeature_weights\u001b[49m\u001b[43m,\u001b[49m\n\u001b[32m    636\u001b[39m \u001b[43m        \u001b[49m\u001b[43mmissing\u001b[49m\u001b[43m=\u001b[49m\u001b[43mmissing\u001b[49m\u001b[43m,\u001b[49m\n\u001b[32m    637\u001b[39m \u001b[43m        \u001b[49m\u001b[43menable_categorical\u001b[49m\u001b[43m=\u001b[49m\u001b[43menable_categorical\u001b[49m\u001b[43m,\u001b[49m\n\u001b[32m    638\u001b[39m \u001b[43m        \u001b[49m\u001b[43mfeature_types\u001b[49m\u001b[43m=\u001b[49m\u001b[43mfeature_types\u001b[49m\u001b[43m,\u001b[49m\n\u001b[32m    639\u001b[39m \u001b[43m        \u001b[49m\u001b[43mref\u001b[49m\u001b[43m=\u001b[49m\u001b[38;5;28;43;01mNone\u001b[39;49;00m\u001b[43m,\u001b[49m\n\u001b[32m    640\u001b[39m \u001b[43m    \u001b[49m\u001b[43m)\u001b[49m\n\u001b[32m    642\u001b[39m     n_validation = \u001b[32m0\u001b[39m \u001b[38;5;28;01mif\u001b[39;00m eval_set \u001b[38;5;129;01mis\u001b[39;00m \u001b[38;5;28;01mNone\u001b[39;00m \u001b[38;5;28;01melse\u001b[39;00m \u001b[38;5;28mlen\u001b[39m(eval_set)\n\u001b[32m    644\u001b[39m     \u001b[38;5;28;01mdef\u001b[39;00m\u001b[38;5;250m \u001b[39m\u001b[34mvalidate_or_none\u001b[39m(meta: Optional[Sequence], name: \u001b[38;5;28mstr\u001b[39m) -> Sequence:\n",
      "\u001b[36mFile \u001b[39m\u001b[32m~/project/shinhan_202510/.venv/lib/python3.12/site-packages/xgboost/sklearn.py:1137\u001b[39m, in \u001b[36mXGBModel._create_dmatrix\u001b[39m\u001b[34m(self, ref, **kwargs)\u001b[39m\n\u001b[32m   1135\u001b[39m \u001b[38;5;28;01mif\u001b[39;00m _can_use_qdm(\u001b[38;5;28mself\u001b[39m.tree_method, \u001b[38;5;28mself\u001b[39m.device) \u001b[38;5;129;01mand\u001b[39;00m \u001b[38;5;28mself\u001b[39m.booster != \u001b[33m\"\u001b[39m\u001b[33mgblinear\u001b[39m\u001b[33m\"\u001b[39m:\n\u001b[32m   1136\u001b[39m     \u001b[38;5;28;01mtry\u001b[39;00m:\n\u001b[32m-> \u001b[39m\u001b[32m1137\u001b[39m         \u001b[38;5;28;01mreturn\u001b[39;00m \u001b[43mQuantileDMatrix\u001b[49m\u001b[43m(\u001b[49m\n\u001b[32m   1138\u001b[39m \u001b[43m            \u001b[49m\u001b[43m*\u001b[49m\u001b[43m*\u001b[49m\u001b[43mkwargs\u001b[49m\u001b[43m,\u001b[49m\u001b[43m \u001b[49m\u001b[43mref\u001b[49m\u001b[43m=\u001b[49m\u001b[43mref\u001b[49m\u001b[43m,\u001b[49m\u001b[43m \u001b[49m\u001b[43mnthread\u001b[49m\u001b[43m=\u001b[49m\u001b[38;5;28;43mself\u001b[39;49m\u001b[43m.\u001b[49m\u001b[43mn_jobs\u001b[49m\u001b[43m,\u001b[49m\u001b[43m \u001b[49m\u001b[43mmax_bin\u001b[49m\u001b[43m=\u001b[49m\u001b[38;5;28;43mself\u001b[39;49m\u001b[43m.\u001b[49m\u001b[43mmax_bin\u001b[49m\n\u001b[32m   1139\u001b[39m \u001b[43m        \u001b[49m\u001b[43m)\u001b[49m\n\u001b[32m   1140\u001b[39m     \u001b[38;5;28;01mexcept\u001b[39;00m \u001b[38;5;167;01mTypeError\u001b[39;00m:  \u001b[38;5;66;03m# `QuantileDMatrix` supports lesser types than DMatrix\u001b[39;00m\n\u001b[32m   1141\u001b[39m         \u001b[38;5;28;01mpass\u001b[39;00m\n",
      "\u001b[36mFile \u001b[39m\u001b[32m~/project/shinhan_202510/.venv/lib/python3.12/site-packages/xgboost/core.py:729\u001b[39m, in \u001b[36mrequire_keyword_args.<locals>.throw_if.<locals>.inner_f\u001b[39m\u001b[34m(*args, **kwargs)\u001b[39m\n\u001b[32m    727\u001b[39m \u001b[38;5;28;01mfor\u001b[39;00m k, arg \u001b[38;5;129;01min\u001b[39;00m \u001b[38;5;28mzip\u001b[39m(sig.parameters, args):\n\u001b[32m    728\u001b[39m     kwargs[k] = arg\n\u001b[32m--> \u001b[39m\u001b[32m729\u001b[39m \u001b[38;5;28;01mreturn\u001b[39;00m \u001b[43mfunc\u001b[49m\u001b[43m(\u001b[49m\u001b[43m*\u001b[49m\u001b[43m*\u001b[49m\u001b[43mkwargs\u001b[49m\u001b[43m)\u001b[49m\n",
      "\u001b[36mFile \u001b[39m\u001b[32m~/project/shinhan_202510/.venv/lib/python3.12/site-packages/xgboost/core.py:1614\u001b[39m, in \u001b[36mQuantileDMatrix.__init__\u001b[39m\u001b[34m(self, data, label, weight, base_margin, missing, silent, feature_names, feature_types, nthread, max_bin, ref, group, qid, label_lower_bound, label_upper_bound, feature_weights, enable_categorical, max_quantile_batches, data_split_mode)\u001b[39m\n\u001b[32m   1594\u001b[39m     \u001b[38;5;28;01mif\u001b[39;00m \u001b[38;5;28many\u001b[39m(\n\u001b[32m   1595\u001b[39m         info \u001b[38;5;129;01mis\u001b[39;00m \u001b[38;5;129;01mnot\u001b[39;00m \u001b[38;5;28;01mNone\u001b[39;00m\n\u001b[32m   1596\u001b[39m         \u001b[38;5;28;01mfor\u001b[39;00m info \u001b[38;5;129;01min\u001b[39;00m (\n\u001b[32m   (...)\u001b[39m\u001b[32m   1607\u001b[39m         )\n\u001b[32m   1608\u001b[39m     ):\n\u001b[32m   1609\u001b[39m         \u001b[38;5;28;01mraise\u001b[39;00m \u001b[38;5;167;01mValueError\u001b[39;00m(\n\u001b[32m   1610\u001b[39m             \u001b[33m\"\u001b[39m\u001b[33mIf data iterator is used as input, data like label should be \u001b[39m\u001b[33m\"\u001b[39m\n\u001b[32m   1611\u001b[39m             \u001b[33m\"\u001b[39m\u001b[33mspecified as batch argument.\u001b[39m\u001b[33m\"\u001b[39m\n\u001b[32m   1612\u001b[39m         )\n\u001b[32m-> \u001b[39m\u001b[32m1614\u001b[39m \u001b[38;5;28;43mself\u001b[39;49m\u001b[43m.\u001b[49m\u001b[43m_init\u001b[49m\u001b[43m(\u001b[49m\n\u001b[32m   1615\u001b[39m \u001b[43m    \u001b[49m\u001b[43mdata\u001b[49m\u001b[43m,\u001b[49m\n\u001b[32m   1616\u001b[39m \u001b[43m    \u001b[49m\u001b[43mref\u001b[49m\u001b[43m=\u001b[49m\u001b[43mref\u001b[49m\u001b[43m,\u001b[49m\n\u001b[32m   1617\u001b[39m \u001b[43m    \u001b[49m\u001b[43mlabel\u001b[49m\u001b[43m=\u001b[49m\u001b[43mlabel\u001b[49m\u001b[43m,\u001b[49m\n\u001b[32m   1618\u001b[39m \u001b[43m    \u001b[49m\u001b[43mweight\u001b[49m\u001b[43m=\u001b[49m\u001b[43mweight\u001b[49m\u001b[43m,\u001b[49m\n\u001b[32m   1619\u001b[39m \u001b[43m    \u001b[49m\u001b[43mbase_margin\u001b[49m\u001b[43m=\u001b[49m\u001b[43mbase_margin\u001b[49m\u001b[43m,\u001b[49m\n\u001b[32m   1620\u001b[39m \u001b[43m    \u001b[49m\u001b[43mgroup\u001b[49m\u001b[43m=\u001b[49m\u001b[43mgroup\u001b[49m\u001b[43m,\u001b[49m\n\u001b[32m   1621\u001b[39m \u001b[43m    \u001b[49m\u001b[43mqid\u001b[49m\u001b[43m=\u001b[49m\u001b[43mqid\u001b[49m\u001b[43m,\u001b[49m\n\u001b[32m   1622\u001b[39m \u001b[43m    \u001b[49m\u001b[43mlabel_lower_bound\u001b[49m\u001b[43m=\u001b[49m\u001b[43mlabel_lower_bound\u001b[49m\u001b[43m,\u001b[49m\n\u001b[32m   1623\u001b[39m \u001b[43m    \u001b[49m\u001b[43mlabel_upper_bound\u001b[49m\u001b[43m=\u001b[49m\u001b[43mlabel_upper_bound\u001b[49m\u001b[43m,\u001b[49m\n\u001b[32m   1624\u001b[39m \u001b[43m    \u001b[49m\u001b[43mfeature_weights\u001b[49m\u001b[43m=\u001b[49m\u001b[43mfeature_weights\u001b[49m\u001b[43m,\u001b[49m\n\u001b[32m   1625\u001b[39m \u001b[43m    \u001b[49m\u001b[43mfeature_names\u001b[49m\u001b[43m=\u001b[49m\u001b[43mfeature_names\u001b[49m\u001b[43m,\u001b[49m\n\u001b[32m   1626\u001b[39m \u001b[43m    \u001b[49m\u001b[43mfeature_types\u001b[49m\u001b[43m=\u001b[49m\u001b[43mfeature_types\u001b[49m\u001b[43m,\u001b[49m\n\u001b[32m   1627\u001b[39m \u001b[43m    \u001b[49m\u001b[43menable_categorical\u001b[49m\u001b[43m=\u001b[49m\u001b[43menable_categorical\u001b[49m\u001b[43m,\u001b[49m\n\u001b[32m   1628\u001b[39m \u001b[43m    \u001b[49m\u001b[43mmax_quantile_blocks\u001b[49m\u001b[43m=\u001b[49m\u001b[43mmax_quantile_batches\u001b[49m\u001b[43m,\u001b[49m\n\u001b[32m   1629\u001b[39m \u001b[43m\u001b[49m\u001b[43m)\u001b[49m\n",
      "\u001b[36mFile \u001b[39m\u001b[32m~/project/shinhan_202510/.venv/lib/python3.12/site-packages/xgboost/core.py:1680\u001b[39m, in \u001b[36mQuantileDMatrix._init\u001b[39m\u001b[34m(self, data, ref, enable_categorical, max_quantile_blocks, **meta)\u001b[39m\n\u001b[32m   1678\u001b[39m it.reraise()\n\u001b[32m   1679\u001b[39m \u001b[38;5;66;03m# delay check_call to throw intermediate exception first\u001b[39;00m\n\u001b[32m-> \u001b[39m\u001b[32m1680\u001b[39m \u001b[43m_check_call\u001b[49m\u001b[43m(\u001b[49m\u001b[43mret\u001b[49m\u001b[43m)\u001b[49m\n\u001b[32m   1681\u001b[39m \u001b[38;5;28mself\u001b[39m.handle = handle\n\u001b[32m   1683\u001b[39m \u001b[38;5;28;01mif\u001b[39;00m ref \u001b[38;5;129;01mis\u001b[39;00m \u001b[38;5;129;01mnot\u001b[39;00m \u001b[38;5;28;01mNone\u001b[39;00m:\n",
      "\u001b[36mFile \u001b[39m\u001b[32m~/project/shinhan_202510/.venv/lib/python3.12/site-packages/xgboost/core.py:310\u001b[39m, in \u001b[36m_check_call\u001b[39m\u001b[34m(ret)\u001b[39m\n\u001b[32m    299\u001b[39m \u001b[38;5;250m\u001b[39m\u001b[33;03m\"\"\"Check the return value of C API call\u001b[39;00m\n\u001b[32m    300\u001b[39m \n\u001b[32m    301\u001b[39m \u001b[33;03mThis function will raise exception when error occurs.\u001b[39;00m\n\u001b[32m   (...)\u001b[39m\u001b[32m    307\u001b[39m \u001b[33;03m    return value from API calls\u001b[39;00m\n\u001b[32m    308\u001b[39m \u001b[33;03m\"\"\"\u001b[39;00m\n\u001b[32m    309\u001b[39m \u001b[38;5;28;01mif\u001b[39;00m ret != \u001b[32m0\u001b[39m:\n\u001b[32m--> \u001b[39m\u001b[32m310\u001b[39m     \u001b[38;5;28;01mraise\u001b[39;00m XGBoostError(py_str(_LIB.XGBGetLastError()))\n",
      "\u001b[31mXGBoostError\u001b[39m: [00:19:08] /workspace/src/data/gradient_index.h:100: Check failed: valid: Input data contains `inf` or a value too large, while `missing` is not set to `inf`\nStack trace:\n  [bt] (0) /home/dlsvud/project/shinhan_202510/.venv/lib/python3.12/site-packages/xgboost/lib/libxgboost.so(+0x2a6e7c) [0x7d5fe0ea6e7c]\n  [bt] (1) /home/dlsvud/project/shinhan_202510/.venv/lib/python3.12/site-packages/xgboost/lib/libxgboost.so(+0x5d7630) [0x7d5fe11d7630]\n  [bt] (2) /home/dlsvud/project/shinhan_202510/.venv/lib/python3.12/site-packages/xgboost/lib/libxgboost.so(+0x5eb916) [0x7d5fe11eb916]\n  [bt] (3) /home/dlsvud/project/shinhan_202510/.venv/lib/python3.12/site-packages/xgboost/lib/libxgboost.so(+0x5e96cb) [0x7d5fe11e96cb]\n  [bt] (4) /home/dlsvud/project/shinhan_202510/.venv/lib/python3.12/site-packages/xgboost/lib/libxgboost.so(+0x5ea8f9) [0x7d5fe11ea8f9]\n  [bt] (5) /home/dlsvud/project/shinhan_202510/.venv/lib/python3.12/site-packages/xgboost/lib/libxgboost.so(+0x57b4f1) [0x7d5fe117b4f1]\n  [bt] (6) /home/dlsvud/project/shinhan_202510/.venv/lib/python3.12/site-packages/xgboost/lib/libxgboost.so(XGQuantileDMatrixCreateFromCallback+0x178) [0x7d5fe0db9378]\n  [bt] (7) /lib/x86_64-linux-gnu/libffi.so.8(+0x7b16) [0x7d606db2db16]\n  [bt] (8) /lib/x86_64-linux-gnu/libffi.so.8(+0x43ef) [0x7d606db2a3ef]\n\n"
     ]
    }
   ],
   "source": [
    "# XGBoost 학습\n",
    "print(\"Training XGBoost model...\")\n",
    "\n",
    "xgb_model.fit(\n",
    "    X_train, y_train,\n",
    "    eval_set=[(X_train, y_train), (X_val, y_val)],\n",
    "    verbose=False\n",
    ")\n",
    "\n",
    "print(\"\\nXGBoost training completed\")"
   ]
  },
  {
   "cell_type": "code",
   "execution_count": null,
   "metadata": {},
   "outputs": [],
   "source": [
    "# XGBoost 예측\n",
    "y_train_pred_xgb = xgb_model.predict(X_train)\n",
    "y_val_pred_xgb = xgb_model.predict(X_val)\n",
    "y_test_pred_xgb = xgb_model.predict(X_test)\n",
    "\n",
    "y_train_pred_proba_xgb = xgb_model.predict_proba(X_train)[:, 1]\n",
    "y_val_pred_proba_xgb = xgb_model.predict_proba(X_val)[:, 1]\n",
    "y_test_pred_proba_xgb = xgb_model.predict_proba(X_test)[:, 1]\n",
    "\n",
    "print(\"XGBoost predictions completed\")"
   ]
  },
  {
   "cell_type": "code",
   "execution_count": null,
   "metadata": {},
   "outputs": [],
   "source": [
    "# XGBoost 평가 - Train\n",
    "print(\"=\"*80)\n",
    "print(\"XGBoost - Train Set Evaluation\")\n",
    "print(\"=\"*80)\n",
    "print(f\"\\nPrecision: {precision_score(y_train, y_train_pred_xgb):.4f}\")\n",
    "print(f\"Recall: {recall_score(y_train, y_train_pred_xgb):.4f}\")\n",
    "print(f\"F1 Score: {f1_score(y_train, y_train_pred_xgb):.4f}\")\n",
    "print(f\"ROC-AUC: {roc_auc_score(y_train, y_train_pred_proba_xgb):.4f}\")\n",
    "print(f\"PR-AUC: {average_precision_score(y_train, y_train_pred_proba_xgb):.4f}\")"
   ]
  },
  {
   "cell_type": "code",
   "execution_count": null,
   "metadata": {},
   "outputs": [],
   "source": [
    "# XGBoost 평가 - Validation\n",
    "print(\"=\"*80)\n",
    "print(\"XGBoost - Validation Set Evaluation\")\n",
    "print(\"=\"*80)\n",
    "print(f\"\\nPrecision: {precision_score(y_val, y_val_pred_xgb):.4f}\")\n",
    "print(f\"Recall: {recall_score(y_val, y_val_pred_xgb):.4f}\")\n",
    "print(f\"F1 Score: {f1_score(y_val, y_val_pred_xgb):.4f}\")\n",
    "print(f\"ROC-AUC: {roc_auc_score(y_val, y_val_pred_proba_xgb):.4f}\")\n",
    "print(f\"PR-AUC: {average_precision_score(y_val, y_val_pred_proba_xgb):.4f}\")\n",
    "\n",
    "print(\"\\nClassification Report:\")\n",
    "print(classification_report(y_val, y_val_pred_xgb))"
   ]
  },
  {
   "cell_type": "code",
   "execution_count": null,
   "metadata": {},
   "outputs": [],
   "source": [
    "# XGBoost 평가 - Test\n",
    "print(\"=\"*80)\n",
    "print(\"XGBoost - Test Set Evaluation\")\n",
    "print(\"=\"*80)\n",
    "print(f\"\\nPrecision: {precision_score(y_test, y_test_pred_xgb):.4f}\")\n",
    "print(f\"Recall: {recall_score(y_test, y_test_pred_xgb):.4f}\")\n",
    "print(f\"F1 Score: {f1_score(y_test, y_test_pred_xgb):.4f}\")\n",
    "print(f\"ROC-AUC: {roc_auc_score(y_test, y_test_pred_proba_xgb):.4f}\")\n",
    "print(f\"PR-AUC: {average_precision_score(y_test, y_test_pred_proba_xgb):.4f}\")\n",
    "\n",
    "print(\"\\nClassification Report:\")\n",
    "print(classification_report(y_test, y_test_pred_xgb))"
   ]
  },
  {
   "cell_type": "code",
   "execution_count": null,
   "metadata": {},
   "outputs": [],
   "source": [
    "# Confusion Matrix - Validation\n",
    "cm_val = confusion_matrix(y_val, y_val_pred_xgb)\n",
    "\n",
    "fig, ax = plt.subplots(figsize=(8, 6))\n",
    "sns.heatmap(cm_val, annot=True, fmt='d', cmap='Blues', ax=ax)\n",
    "ax.set_xlabel('Predicted')\n",
    "ax.set_ylabel('Actual')\n",
    "ax.set_title('XGBoost - Confusion Matrix (Validation)')\n",
    "plt.tight_layout()\n",
    "plt.show()"
   ]
  },
  {
   "cell_type": "markdown",
   "metadata": {},
   "source": [
    "### 5.2 LightGBM Baseline"
   ]
  },
  {
   "cell_type": "code",
   "execution_count": null,
   "metadata": {},
   "outputs": [],
   "source": [
    "# LightGBM 모델 초기화 (불균형 데이터 처리)\n",
    "lgb_model = lgb.LGBMClassifier(\n",
    "    objective='binary',\n",
    "    scale_pos_weight=scale_pos_weight,\n",
    "    max_depth=6,\n",
    "    learning_rate=0.1,\n",
    "    n_estimators=100,\n",
    "    random_state=42,\n",
    "    verbose=-1\n",
    ")\n",
    "\n",
    "print(\"LightGBM model initialized\")"
   ]
  },
  {
   "cell_type": "code",
   "execution_count": null,
   "metadata": {},
   "outputs": [],
   "source": [
    "# LightGBM 학습\n",
    "print(\"Training LightGBM model...\")\n",
    "\n",
    "lgb_model.fit(\n",
    "    X_train, y_train,\n",
    "    eval_set=[(X_train, y_train), (X_val, y_val)],\n",
    "    eval_metric='logloss'\n",
    ")\n",
    "\n",
    "print(\"\\nLightGBM training completed\")"
   ]
  },
  {
   "cell_type": "code",
   "execution_count": null,
   "metadata": {},
   "outputs": [],
   "source": [
    "# LightGBM 예측\n",
    "y_train_pred_lgb = lgb_model.predict(X_train)\n",
    "y_val_pred_lgb = lgb_model.predict(X_val)\n",
    "y_test_pred_lgb = lgb_model.predict(X_test)\n",
    "\n",
    "y_train_pred_proba_lgb = lgb_model.predict_proba(X_train)[:, 1]\n",
    "y_val_pred_proba_lgb = lgb_model.predict_proba(X_val)[:, 1]\n",
    "y_test_pred_proba_lgb = lgb_model.predict_proba(X_test)[:, 1]\n",
    "\n",
    "print(\"LightGBM predictions completed\")"
   ]
  },
  {
   "cell_type": "code",
   "execution_count": null,
   "metadata": {},
   "outputs": [],
   "source": [
    "# LightGBM 평가 - Validation\n",
    "print(\"=\"*80)\n",
    "print(\"LightGBM - Validation Set Evaluation\")\n",
    "print(\"=\"*80)\n",
    "print(f\"\\nPrecision: {precision_score(y_val, y_val_pred_lgb):.4f}\")\n",
    "print(f\"Recall: {recall_score(y_val, y_val_pred_lgb):.4f}\")\n",
    "print(f\"F1 Score: {f1_score(y_val, y_val_pred_lgb):.4f}\")\n",
    "print(f\"ROC-AUC: {roc_auc_score(y_val, y_val_pred_proba_lgb):.4f}\")\n",
    "print(f\"PR-AUC: {average_precision_score(y_val, y_val_pred_proba_lgb):.4f}\")\n",
    "\n",
    "print(\"\\nClassification Report:\")\n",
    "print(classification_report(y_val, y_val_pred_lgb))"
   ]
  },
  {
   "cell_type": "code",
   "execution_count": null,
   "metadata": {},
   "outputs": [],
   "source": [
    "# LightGBM 평가 - Test\n",
    "print(\"=\"*80)\n",
    "print(\"LightGBM - Test Set Evaluation\")\n",
    "print(\"=\"*80)\n",
    "print(f\"\\nPrecision: {precision_score(y_test, y_test_pred_lgb):.4f}\")\n",
    "print(f\"Recall: {recall_score(y_test, y_test_pred_lgb):.4f}\")\n",
    "print(f\"F1 Score: {f1_score(y_test, y_test_pred_lgb):.4f}\")\n",
    "print(f\"ROC-AUC: {roc_auc_score(y_test, y_test_pred_proba_lgb):.4f}\")\n",
    "print(f\"PR-AUC: {average_precision_score(y_test, y_test_pred_proba_lgb):.4f}\")\n",
    "\n",
    "print(\"\\nClassification Report:\")\n",
    "print(classification_report(y_test, y_test_pred_lgb))"
   ]
  },
  {
   "cell_type": "markdown",
   "metadata": {},
   "source": [
    "## 6. Model Comparison"
   ]
  },
  {
   "cell_type": "code",
   "execution_count": null,
   "metadata": {},
   "outputs": [],
   "source": [
    "# 모델 비교 테이블\n",
    "results = {\n",
    "    'Model': ['XGBoost', 'LightGBM'],\n",
    "    'Precision (Val)': [\n",
    "        precision_score(y_val, y_val_pred_xgb),\n",
    "        precision_score(y_val, y_val_pred_lgb)\n",
    "    ],\n",
    "    'Recall (Val)': [\n",
    "        recall_score(y_val, y_val_pred_xgb),\n",
    "        recall_score(y_val, y_val_pred_lgb)\n",
    "    ],\n",
    "    'F1 (Val)': [\n",
    "        f1_score(y_val, y_val_pred_xgb),\n",
    "        f1_score(y_val, y_val_pred_lgb)\n",
    "    ],\n",
    "    'ROC-AUC (Val)': [\n",
    "        roc_auc_score(y_val, y_val_pred_proba_xgb),\n",
    "        roc_auc_score(y_val, y_val_pred_proba_lgb)\n",
    "    ],\n",
    "    'Precision (Test)': [\n",
    "        precision_score(y_test, y_test_pred_xgb),\n",
    "        precision_score(y_test, y_test_pred_lgb)\n",
    "    ],\n",
    "    'Recall (Test)': [\n",
    "        recall_score(y_test, y_test_pred_xgb),\n",
    "        recall_score(y_test, y_test_pred_lgb)\n",
    "    ],\n",
    "    'F1 (Test)': [\n",
    "        f1_score(y_test, y_test_pred_xgb),\n",
    "        f1_score(y_test, y_test_pred_lgb)\n",
    "    ],\n",
    "    'ROC-AUC (Test)': [\n",
    "        roc_auc_score(y_test, y_test_pred_proba_xgb),\n",
    "        roc_auc_score(y_test, y_test_pred_proba_lgb)\n",
    "    ]\n",
    "}\n",
    "\n",
    "results_df = pd.DataFrame(results)\n",
    "print(\"\\nModel Comparison:\")\n",
    "display(results_df.round(4))"
   ]
  },
  {
   "cell_type": "markdown",
   "metadata": {},
   "source": [
    "## 7. Feature Importance Analysis"
   ]
  },
  {
   "cell_type": "code",
   "execution_count": null,
   "metadata": {},
   "outputs": [],
   "source": [
    "# XGBoost Feature Importance\n",
    "xgb_importance = pd.DataFrame({\n",
    "    'feature': feature_cols,\n",
    "    'importance': xgb_model.feature_importances_\n",
    "}).sort_values('importance', ascending=False)\n",
    "\n",
    "print(\"\\nXGBoost - Top 20 Important Features:\")\n",
    "display(xgb_importance.head(20))\n",
    "\n",
    "# 시각화\n",
    "fig, ax = plt.subplots(figsize=(12, 8))\n",
    "top_features = xgb_importance.head(20)\n",
    "ax.barh(range(len(top_features)), top_features['importance'].values)\n",
    "ax.set_yticks(range(len(top_features)))\n",
    "ax.set_yticklabels(top_features['feature'].values)\n",
    "ax.set_xlabel('Importance')\n",
    "ax.set_title('XGBoost - Top 20 Feature Importance')\n",
    "ax.invert_yaxis()\n",
    "plt.tight_layout()\n",
    "plt.show()"
   ]
  },
  {
   "cell_type": "code",
   "execution_count": null,
   "metadata": {},
   "outputs": [],
   "source": [
    "# LightGBM Feature Importance\n",
    "lgb_importance = pd.DataFrame({\n",
    "    'feature': feature_cols,\n",
    "    'importance': lgb_model.feature_importances_\n",
    "}).sort_values('importance', ascending=False)\n",
    "\n",
    "print(\"\\nLightGBM - Top 20 Important Features:\")\n",
    "display(lgb_importance.head(20))\n",
    "\n",
    "# 시각화\n",
    "fig, ax = plt.subplots(figsize=(12, 8))\n",
    "top_features = lgb_importance.head(20)\n",
    "ax.barh(range(len(top_features)), top_features['importance'].values)\n",
    "ax.set_yticks(range(len(top_features)))\n",
    "ax.set_yticklabels(top_features['feature'].values)\n",
    "ax.set_xlabel('Importance')\n",
    "ax.set_title('LightGBM - Top 20 Feature Importance')\n",
    "ax.invert_yaxis()\n",
    "plt.tight_layout()\n",
    "plt.show()"
   ]
  },
  {
   "cell_type": "markdown",
   "metadata": {},
   "source": [
    "## 8. SHAP Value Analysis\n",
    "\n",
    "SHAP (SHapley Additive exPlanations)를 사용하여 모델의 예측을 해석합니다."
   ]
  },
  {
   "cell_type": "code",
   "execution_count": null,
   "metadata": {},
   "outputs": [],
   "source": [
    "# SHAP explainer 생성 (XGBoost)\n",
    "print(\"Creating SHAP explainer for XGBoost...\")\n",
    "explainer_xgb = shap.TreeExplainer(xgb_model)\n",
    "\n",
    "# SHAP values 계산 (샘플링하여 계산 속도 향상)\n",
    "sample_size = min(1000, len(X_val))\n",
    "X_val_sample = X_val.sample(n=sample_size, random_state=42)\n",
    "\n",
    "print(f\"Calculating SHAP values for {sample_size} samples...\")\n",
    "shap_values_xgb = explainer_xgb.shap_values(X_val_sample)\n",
    "\n",
    "print(\"SHAP calculation completed\")"
   ]
  },
  {
   "cell_type": "code",
   "execution_count": null,
   "metadata": {},
   "outputs": [],
   "source": [
    "# SHAP Summary Plot (XGBoost)\n",
    "print(\"\\nSHAP Summary Plot - XGBoost:\")\n",
    "shap.summary_plot(shap_values_xgb, X_val_sample, show=False)\n",
    "plt.tight_layout()\n",
    "plt.show()"
   ]
  },
  {
   "cell_type": "code",
   "execution_count": null,
   "metadata": {},
   "outputs": [],
   "source": [
    "# SHAP Bar Plot - Mean absolute SHAP values\n",
    "print(\"\\nSHAP Feature Importance (Mean |SHAP value|) - XGBoost:\")\n",
    "shap.summary_plot(shap_values_xgb, X_val_sample, plot_type=\"bar\", show=False)\n",
    "plt.tight_layout()\n",
    "plt.show()"
   ]
  },
  {
   "cell_type": "markdown",
   "metadata": {},
   "source": [
    "## 9. Hyperparameter Tuning\n",
    "\n",
    "성능이 더 좋은 모델에 대해 Hyperparameter tuning을 수행합니다."
   ]
  },
  {
   "cell_type": "code",
   "execution_count": null,
   "metadata": {},
   "outputs": [],
   "source": [
    "# Grid Search를 위한 파라미터 그리드 정의 (XGBoost)\n",
    "from sklearn.model_selection import GridSearchCV\n",
    "\n",
    "param_grid_xgb = {\n",
    "    'max_depth': [4, 6, 8],\n",
    "    'learning_rate': [0.05, 0.1, 0.2],\n",
    "    'n_estimators': [100, 200],\n",
    "    'min_child_weight': [1, 3, 5],\n",
    "    'subsample': [0.8, 1.0],\n",
    "    'colsample_bytree': [0.8, 1.0]\n",
    "}\n",
    "\n",
    "print(\"Parameter grid for XGBoost:\")\n",
    "print(param_grid_xgb)\n",
    "print(f\"\\nTotal combinations: {np.prod([len(v) for v in param_grid_xgb.values()])}\")"
   ]
  },
  {
   "cell_type": "code",
   "execution_count": null,
   "metadata": {},
   "outputs": [],
   "source": [
    "# Note: Full grid search would take too long, so we'll use RandomizedSearchCV instead\n",
    "from sklearn.model_selection import RandomizedSearchCV\n",
    "\n",
    "print(\"Starting RandomizedSearchCV for XGBoost...\")\n",
    "print(\"This may take several minutes...\\n\")\n",
    "\n",
    "xgb_random = RandomizedSearchCV(\n",
    "    estimator=xgb.XGBClassifier(\n",
    "        objective='binary:logistic',\n",
    "        scale_pos_weight=scale_pos_weight,\n",
    "        random_state=42,\n",
    "        eval_metric='logloss'\n",
    "    ),\n",
    "    param_distributions=param_grid_xgb,\n",
    "    n_iter=20,  # 20 random combinations\n",
    "    scoring='roc_auc',\n",
    "    cv=3,\n",
    "    verbose=1,\n",
    "    random_state=42,\n",
    "    n_jobs=-1\n",
    ")\n",
    "\n",
    "# Combine train + val for hyperparameter tuning\n",
    "X_train_val = pd.concat([X_train, X_val])\n",
    "y_train_val = pd.concat([y_train, y_val])\n",
    "\n",
    "xgb_random.fit(X_train_val, y_train_val)\n",
    "\n",
    "print(\"\\nBest parameters:\")\n",
    "print(xgb_random.best_params_)\n",
    "print(f\"\\nBest ROC-AUC score: {xgb_random.best_score_:.4f}\")"
   ]
  },
  {
   "cell_type": "code",
   "execution_count": null,
   "metadata": {},
   "outputs": [],
   "source": [
    "# 최적 모델로 Test 세트 평가\n",
    "best_xgb_model = xgb_random.best_estimator_\n",
    "\n",
    "y_test_pred_best = best_xgb_model.predict(X_test)\n",
    "y_test_pred_proba_best = best_xgb_model.predict_proba(X_test)[:, 1]\n",
    "\n",
    "print(\"=\"*80)\n",
    "print(\"Tuned XGBoost - Test Set Evaluation\")\n",
    "print(\"=\"*80)\n",
    "print(f\"\\nPrecision: {precision_score(y_test, y_test_pred_best):.4f}\")\n",
    "print(f\"Recall: {recall_score(y_test, y_test_pred_best):.4f}\")\n",
    "print(f\"F1 Score: {f1_score(y_test, y_test_pred_best):.4f}\")\n",
    "print(f\"ROC-AUC: {roc_auc_score(y_test, y_test_pred_proba_best):.4f}\")\n",
    "print(f\"PR-AUC: {average_precision_score(y_test, y_test_pred_proba_best):.4f}\")\n",
    "\n",
    "print(\"\\nClassification Report:\")\n",
    "print(classification_report(y_test, y_test_pred_best))"
   ]
  },
  {
   "cell_type": "markdown",
   "metadata": {},
   "source": [
    "## 10. 최종 모델 저장"
   ]
  },
  {
   "cell_type": "code",
   "execution_count": null,
   "metadata": {},
   "outputs": [],
   "source": [
    "# 모델 저장\n",
    "import pickle\n",
    "from pathlib import Path\n",
    "\n",
    "model_dir = Path('../models')\n",
    "model_dir.mkdir(exist_ok=True)\n",
    "\n",
    "# Best XGBoost 모델 저장\n",
    "with open(model_dir / 'xgboost_best.pkl', 'wb') as f:\n",
    "    pickle.dump(best_xgb_model, f)\n",
    "print(f\"Saved: {model_dir / 'xgboost_best.pkl'}\")\n",
    "\n",
    "# LightGBM 모델 저장\n",
    "with open(model_dir / 'lightgbm_baseline.pkl', 'wb') as f:\n",
    "    pickle.dump(lgb_model, f)\n",
    "print(f\"Saved: {model_dir / 'lightgbm_baseline.pkl'}\")\n",
    "\n",
    "# Feature 목록 저장\n",
    "with open(model_dir / 'feature_cols.pkl', 'wb') as f:\n",
    "    pickle.dump(feature_cols, f)\n",
    "print(f\"Saved: {model_dir / 'feature_cols.pkl'}\")"
   ]
  },
  {
   "cell_type": "code",
   "execution_count": null,
   "metadata": {},
   "outputs": [],
   "source": [
    "# 최종 결과 저장\n",
    "final_results = {\n",
    "    'model': 'XGBoost (Tuned)',\n",
    "    'test_precision': precision_score(y_test, y_test_pred_best),\n",
    "    'test_recall': recall_score(y_test, y_test_pred_best),\n",
    "    'test_f1': f1_score(y_test, y_test_pred_best),\n",
    "    'test_roc_auc': roc_auc_score(y_test, y_test_pred_proba_best),\n",
    "    'test_pr_auc': average_precision_score(y_test, y_test_pred_proba_best),\n",
    "    'best_params': xgb_random.best_params_,\n",
    "    'feature_count': len(feature_cols),\n",
    "    'train_samples': len(X_train_val),\n",
    "    'test_samples': len(X_test)\n",
    "}\n",
    "\n",
    "import json\n",
    "with open(model_dir / 'final_results.json', 'w') as f:\n",
    "    json.dump(final_results, f, indent=2)\n",
    "\n",
    "print(f\"\\nSaved: {model_dir / 'final_results.json'}\")"
   ]
  },
  {
   "cell_type": "markdown",
   "metadata": {},
   "source": [
    "## 11. 결론\n",
    "\n",
    "### 완료된 작업\n",
    "1. ✅ 데이터 로드 및 전처리\n",
    "2. ✅ Train/Validation/Test Split (시계열 고려)\n",
    "3. ✅ XGBoost Baseline 모델\n",
    "4. ✅ LightGBM Baseline 모델\n",
    "5. ✅ 모델 비교 및 평가\n",
    "6. ✅ Feature Importance 분석\n",
    "7. ✅ SHAP Value 분석\n",
    "8. ✅ Hyperparameter Tuning\n",
    "9. ✅ 최종 모델 저장\n",
    "\n",
    "### 주요 결과\n",
    "- 불균형 데이터 문제를 `scale_pos_weight`로 해결\n",
    "- 시계열 특성을 고려한 데이터 분할\n",
    "- Feature importance와 SHAP을 통한 모델 해석\n",
    "- Hyperparameter tuning으로 성능 개선\n",
    "\n",
    "### 다음 단계\n",
    "- 더 많은 Feature Engineering\n",
    "- 앙상블 모델 (Stacking, Voting)\n",
    "- 비즈니스 메트릭 기반 임계값 조정\n",
    "- 프로덕션 배포 준비"
   ]
  },
  {
   "cell_type": "code",
   "execution_count": null,
   "metadata": {},
   "outputs": [],
   "source": [
    "print(\"\\n\" + \"=\"*80)\n",
    "print(\"MODEL TRAINING COMPLETED\")\n",
    "print(\"=\"*80)\n",
    "print(f\"\\nBest Model: XGBoost (Tuned)\")\n",
    "print(f\"Test ROC-AUC: {roc_auc_score(y_test, y_test_pred_proba_best):.4f}\")\n",
    "print(f\"Test F1 Score: {f1_score(y_test, y_test_pred_best):.4f}\")\n",
    "print(f\"\\nModels saved to: {model_dir}\")"
   ]
  }
 ],
 "metadata": {
  "kernelspec": {
   "display_name": "shinhan_202510",
   "language": "python",
   "name": "python3"
  },
  "language_info": {
   "codemirror_mode": {
    "name": "ipython",
    "version": 3
   },
   "file_extension": ".py",
   "mimetype": "text/x-python",
   "name": "python",
   "nbconvert_exporter": "python",
   "pygments_lexer": "ipython3",
   "version": "3.12.3"
  }
 },
 "nbformat": 4,
 "nbformat_minor": 4
}
