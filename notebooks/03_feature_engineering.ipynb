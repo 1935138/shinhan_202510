{
 "cells": [
  {
   "cell_type": "markdown",
   "metadata": {},
   "source": [
    "# Feature Engineering\n",
    "\n",
    "## 목표\n",
    "- 시계열 특성 생성 (Lag features, Moving averages)\n",
    "- 추세 및 변동성 지표\n",
    "- 상대적 지표 (업종 내 순위)\n",
    "- 고객 행동 지표\n",
    "- 복합 지표\n",
    "- Feature Selection\n",
    "\n",
    "## 작업 내역\n",
    "1. 전처리 데이터 로드\n",
    "2. Lag Features (1, 3, 6, 12개월)\n",
    "3. Moving Averages & Change Rates\n",
    "4. Trend & Volatility Indicators\n",
    "5. Relative Indicators (Industry Ranking)\n",
    "6. Customer Behavior Indicators\n",
    "7. Composite Indicators\n",
    "8. Feature Selection\n",
    "9. Feature Engineering 결과 저장"
   ]
  },
  {
   "cell_type": "markdown",
   "metadata": {},
   "source": [
    "## 1. 환경 설정"
   ]
  },
  {
   "cell_type": "code",
   "execution_count": null,
   "metadata": {},
   "outputs": [],
   "source": [
    "# 기본 라이브러리\n",
    "import pandas as pd\n",
    "import numpy as np\n",
    "import matplotlib.pyplot as plt\n",
    "import seaborn as sns\n",
    "from pathlib import Path\n",
    "import warnings\n",
    "warnings.filterwarnings('ignore')\n",
    "\n",
    "# 시각화 설정\n",
    "plt.style.use('default')\n",
    "sns.set_palette('husl')\n",
    "plt.rcParams['figure.figsize'] = (12, 6)\n",
    "plt.rcParams['font.family'] = 'DejaVu Sans'\n",
    "\n",
    "# 출력 설정\n",
    "pd.set_option('display.max_columns', 100)\n",
    "pd.set_option('display.max_rows', 100)\n",
    "\n",
    "print(\"Libraries loaded successfully\")"
   ]
  },
  {
   "cell_type": "code",
   "execution_count": null,
   "metadata": {},
   "outputs": [],
   "source": [
    "# 커스텀 모듈 임포트\n",
    "import sys\n",
    "sys.path.append('..')\n",
    "\n",
    "from pipeline.features import (\n",
    "    TimeSeriesFeatureEngine,\n",
    "    CustomerFeatureEngine,\n",
    "    CompositeFeatureEngine\n",
    ")\n",
    "\n",
    "print(\"Custom modules loaded successfully\")"
   ]
  },
  {
   "cell_type": "markdown",
   "metadata": {},
   "source": [
    "## 2. 데이터 로드"
   ]
  },
  {
   "cell_type": "code",
   "execution_count": null,
   "metadata": {},
   "outputs": [],
   "source": [
    "# 전처리된 데이터 로드\n",
    "data_path = Path('../data/processed/preprocessed_data.csv')\n",
    "df = pd.read_csv(data_path)\n",
    "\n",
    "print(f\"Loaded data shape: {df.shape}\")\n",
    "print(f\"\\nColumns: {len(df.columns)}\")\n",
    "print(f\"Rows: {len(df):,}\")\n",
    "print(f\"Unique merchants: {df['ENCODED_MCT'].nunique():,}\")\n",
    "print(f\"Date range: {df['TA_YM'].min()} ~ {df['TA_YM'].max()}\")"
   ]
  },
  {
   "cell_type": "code",
   "execution_count": null,
   "metadata": {},
   "outputs": [],
   "source": [
    "# 데이터 미리보기\n",
    "df.head()"
   ]
  },
  {
   "cell_type": "code",
   "execution_count": null,
   "metadata": {},
   "outputs": [],
   "source": [
    "# 데이터 정보\n",
    "df.info()"
   ]
  },
  {
   "cell_type": "markdown",
   "metadata": {},
   "source": [
    "## 3. Lag Features\n",
    "\n",
    "시계열 데이터에서 과거 값을 현재 시점의 특성으로 사용합니다.\n",
    "- 1개월 전 (lag_1m)\n",
    "- 3개월 전 (lag_3m)\n",
    "- 6개월 전 (lag_6m)\n",
    "- 12개월 전 (lag_12m)"
   ]
  },
  {
   "cell_type": "code",
   "execution_count": null,
   "metadata": {},
   "outputs": [],
   "source": [
    "# TimeSeriesFeatureEngine 초기화\n",
    "ts_engine = TimeSeriesFeatureEngine(\n",
    "    merchant_col='ENCODED_MCT',\n",
    "    date_col='TA_YM'\n",
    ")\n",
    "\n",
    "print(\"TimeSeriesFeatureEngine initialized\")"
   ]
  },
  {
   "cell_type": "code",
   "execution_count": null,
   "metadata": {},
   "outputs": [],
   "source": [
    "# Lag feature를 생성할 주요 변수 선택\n",
    "lag_columns = [\n",
    "    # 매출 관련\n",
    "    'MCT_OPE_MS_CN',  # 가맹점 운영 개월 수\n",
    "    'RC_M1_SAA',  # 월 매출액\n",
    "    'M1_SME_RY_SAA_RAT',  # 전월 대비 매출 증감률\n",
    "    \n",
    "    # 이용 건수/고객\n",
    "    'RC_M1_TO_UE_CT',  # 총 이용 건수\n",
    "    'RC_M1_UE_CUS_CN',  # 이용 고객 수\n",
    "    'RC_M1_AV_NP_AT',  # 평균 결제 금액\n",
    "    \n",
    "    # 고객 재방문/신규\n",
    "    'MCT_UE_CLN_REU_RAT',  # 재방문 고객 비율\n",
    "    'MCT_UE_CLN_NEW_RAT',  # 신규 고객 비율\n",
    "]\n",
    "\n",
    "print(f\"Selected {len(lag_columns)} columns for lag features\")\n",
    "print(f\"Columns: {lag_columns}\")"
   ]
  },
  {
   "cell_type": "code",
   "execution_count": null,
   "metadata": {},
   "outputs": [],
   "source": [
    "# Lag features 생성 (1, 3, 6, 12개월)\n",
    "df_with_lags = ts_engine.create_lag_features(\n",
    "    df,\n",
    "    columns=lag_columns,\n",
    "    lags=[1, 3, 6, 12]\n",
    ")\n",
    "\n",
    "print(f\"\\nShape after lag features: {df_with_lags.shape}\")\n",
    "print(f\"New columns added: {df_with_lags.shape[1] - df.shape[1]}\")"
   ]
  },
  {
   "cell_type": "code",
   "execution_count": null,
   "metadata": {},
   "outputs": [],
   "source": [
    "# Lag feature 샘플 확인\n",
    "sample_merchant = df_with_lags['ENCODED_MCT'].iloc[0]\n",
    "sample_cols = ['ENCODED_MCT', 'TA_YM', 'RC_M1_SAA', 'RC_M1_SAA_lag_1m', 'RC_M1_SAA_lag_3m', 'RC_M1_SAA_lag_6m', 'RC_M1_SAA_lag_12m']\n",
    "\n",
    "print(f\"\\nSample lag features for merchant {sample_merchant}:\")\n",
    "df_with_lags[df_with_lags['ENCODED_MCT'] == sample_merchant][sample_cols].head(15)"
   ]
  },
  {
   "cell_type": "markdown",
   "metadata": {},
   "source": [
    "## 4. Moving Averages & Change Rates\n",
    "\n",
    "추세를 파악하기 위한 이동평균과 증감률을 계산합니다.\n",
    "- Moving averages: 3개월, 6개월, 12개월\n",
    "- Change rates: 전월 대비, 전분기 대비, 전년 대비"
   ]
  },
  {
   "cell_type": "code",
   "execution_count": null,
   "metadata": {},
   "outputs": [],
   "source": [
    "# Moving averages 생성할 변수 선택\n",
    "ma_columns = [\n",
    "    'RC_M1_SAA',  # 월 매출액\n",
    "    'RC_M1_TO_UE_CT',  # 총 이용 건수\n",
    "    'RC_M1_UE_CUS_CN',  # 이용 고객 수\n",
    "    'RC_M1_AV_NP_AT',  # 평균 결제 금액\n",
    "    'MCT_UE_CLN_REU_RAT',  # 재방문 고객 비율\n",
    "]\n",
    "\n",
    "print(f\"Selected {len(ma_columns)} columns for moving averages\")"
   ]
  },
  {
   "cell_type": "code",
   "execution_count": null,
   "metadata": {},
   "outputs": [],
   "source": [
    "# Moving averages 생성 (3, 6, 12개월)\n",
    "df_with_ma = ts_engine.create_moving_averages(\n",
    "    df_with_lags,\n",
    "    columns=ma_columns,\n",
    "    windows=[3, 6, 12]\n",
    ")\n",
    "\n",
    "print(f\"\\nShape after moving averages: {df_with_ma.shape}\")\n",
    "print(f\"New columns added: {df_with_ma.shape[1] - df_with_lags.shape[1]}\")"
   ]
  },
  {
   "cell_type": "code",
   "execution_count": null,
   "metadata": {},
   "outputs": [],
   "source": [
    "# Change rates 생성 (1개월, 3개월, 12개월 대비)\n",
    "df_with_change = ts_engine.create_change_rates(\n",
    "    df_with_ma,\n",
    "    columns=ma_columns,\n",
    "    periods=[1, 3, 12]\n",
    ")\n",
    "\n",
    "print(f\"\\nShape after change rates: {df_with_change.shape}\")\n",
    "print(f\"New columns added: {df_with_change.shape[1] - df_with_ma.shape[1]}\")"
   ]
  },
  {
   "cell_type": "code",
   "execution_count": null,
   "metadata": {},
   "outputs": [],
   "source": [
    "# Moving average & change rate 샘플 확인\n",
    "sample_cols = [\n",
    "    'ENCODED_MCT', 'TA_YM', \n",
    "    'RC_M1_SAA', \n",
    "    'RC_M1_SAA_ma_3m', 'RC_M1_SAA_ma_6m', 'RC_M1_SAA_ma_12m',\n",
    "    'RC_M1_SAA_change_1m', 'RC_M1_SAA_change_3m', 'RC_M1_SAA_change_12m'\n",
    "]\n",
    "\n",
    "available_cols = [col for col in sample_cols if col in df_with_change.columns]\n",
    "\n",
    "print(f\"\\nSample moving averages and change rates for merchant {sample_merchant}:\")\n",
    "df_with_change[df_with_change['ENCODED_MCT'] == sample_merchant][available_cols].head(15)"
   ]
  },
  {
   "cell_type": "markdown",
   "metadata": {},
   "source": [
    "## 5. Trend & Volatility Indicators\n",
    "\n",
    "가맹점의 안정성과 추세를 나타내는 지표를 생성합니다.\n",
    "- Trend: 매출 추세 (상승/하락/안정)\n",
    "- Volatility: 매출 변동성 (표준편차, 변동계수)"
   ]
  },
  {
   "cell_type": "code",
   "execution_count": null,
   "metadata": {},
   "outputs": [],
   "source": [
    "# Trend & Volatility 지표 생성할 변수\n",
    "trend_columns = [\n",
    "    'RC_M1_SAA',  # 월 매출액\n",
    "    'RC_M1_TO_UE_CT',  # 총 이용 건수\n",
    "    'RC_M1_UE_CUS_CN',  # 이용 고객 수\n",
    "]\n",
    "\n",
    "print(f\"Selected {len(trend_columns)} columns for trend & volatility\")"
   ]
  },
  {
   "cell_type": "code",
   "execution_count": null,
   "metadata": {},
   "outputs": [],
   "source": [
    "# Trend indicators 생성 (3, 6, 12개월)\n",
    "df_with_trend = ts_engine.create_trend_indicators(\n",
    "    df_with_change,\n",
    "    columns=trend_columns,\n",
    "    windows=[3, 6, 12]\n",
    ")\n",
    "\n",
    "print(f\"\\nShape after trend indicators: {df_with_trend.shape}\")\n",
    "print(f\"New columns added: {df_with_trend.shape[1] - df_with_change.shape[1]}\")"
   ]
  },
  {
   "cell_type": "code",
   "execution_count": null,
   "metadata": {},
   "outputs": [],
   "source": [
    "# Volatility indicators 생성 (3, 6, 12개월)\n",
    "df_with_volatility = ts_engine.create_volatility_indicators(\n",
    "    df_with_trend,\n",
    "    columns=trend_columns,\n",
    "    windows=[3, 6, 12]\n",
    ")\n",
    "\n",
    "print(f\"\\nShape after volatility indicators: {df_with_volatility.shape}\")\n",
    "print(f\"New columns added: {df_with_volatility.shape[1] - df_with_trend.shape[1]}\")"
   ]
  },
  {
   "cell_type": "code",
   "execution_count": null,
   "metadata": {},
   "outputs": [],
   "source": [
    "# Trend & Volatility 샘플 확인\n",
    "sample_cols = [\n",
    "    'ENCODED_MCT', 'TA_YM',\n",
    "    'RC_M1_SAA',\n",
    "    'RC_M1_SAA_trend_3m', 'RC_M1_SAA_trend_6m', 'RC_M1_SAA_trend_12m',\n",
    "    'RC_M1_SAA_std_3m', 'RC_M1_SAA_std_6m', 'RC_M1_SAA_std_12m',\n",
    "    'RC_M1_SAA_cv_3m', 'RC_M1_SAA_cv_6m', 'RC_M1_SAA_cv_12m'\n",
    "]\n",
    "\n",
    "available_cols = [col for col in sample_cols if col in df_with_volatility.columns]\n",
    "\n",
    "print(f\"\\nSample trend & volatility indicators for merchant {sample_merchant}:\")\n",
    "df_with_volatility[df_with_volatility['ENCODED_MCT'] == sample_merchant][available_cols].head(15)"
   ]
  },
  {
   "cell_type": "markdown",
   "metadata": {},
   "source": [
    "## 6. Relative Indicators (Industry Ranking)\n",
    "\n",
    "업종 내에서의 상대적 위치를 나타내는 지표를 생성합니다.\n",
    "- 월별 매출 순위\n",
    "- 순위 변화 추이\n",
    "- 업종 평균 대비 비율"
   ]
  },
  {
   "cell_type": "code",
   "execution_count": null,
   "metadata": {},
   "outputs": [],
   "source": [
    "# Relative ranking 지표 생성\n",
    "ranking_columns = [\n",
    "    'RC_M1_SAA',  # 월 매출액\n",
    "    'RC_M1_TO_UE_CT',  # 총 이용 건수\n",
    "    'RC_M1_UE_CUS_CN',  # 이용 고객 수\n",
    "]\n",
    "\n",
    "print(f\"Selected {len(ranking_columns)} columns for relative ranking\")"
   ]
  },
  {
   "cell_type": "code",
   "execution_count": null,
   "metadata": {},
   "outputs": [],
   "source": [
    "# Ranking indicators 생성 (월별 순위)\n",
    "df_with_ranking = ts_engine.create_ranking_indicators(\n",
    "    df_with_volatility,\n",
    "    columns=ranking_columns\n",
    ")\n",
    "\n",
    "print(f\"\\nShape after ranking indicators: {df_with_ranking.shape}\")\n",
    "print(f\"New columns added: {df_with_ranking.shape[1] - df_with_volatility.shape[1]}\")"
   ]
  },
  {
   "cell_type": "code",
   "execution_count": null,
   "metadata": {},
   "outputs": [],
   "source": [
    "# Ranking change 생성 (순위 변화)\n",
    "df_with_rank_change = ts_engine.create_ranking_change(\n",
    "    df_with_ranking,\n",
    "    columns=ranking_columns,\n",
    "    periods=[1, 3, 6]\n",
    ")\n",
    "\n",
    "print(f\"\\nShape after ranking change: {df_with_rank_change.shape}\")\n",
    "print(f\"New columns added: {df_with_rank_change.shape[1] - df_with_ranking.shape[1]}\")"
   ]
  },
  {
   "cell_type": "code",
   "execution_count": null,
   "metadata": {},
   "outputs": [],
   "source": [
    "# Ranking 샘플 확인\n",
    "sample_cols = [\n",
    "    'ENCODED_MCT', 'TA_YM',\n",
    "    'RC_M1_SAA',\n",
    "    'RC_M1_SAA_rank', 'RC_M1_SAA_rank_pct',\n",
    "    'RC_M1_SAA_rank_change_1m', 'RC_M1_SAA_rank_change_3m', 'RC_M1_SAA_rank_change_6m'\n",
    "]\n",
    "\n",
    "available_cols = [col for col in sample_cols if col in df_with_rank_change.columns]\n",
    "\n",
    "print(f\"\\nSample ranking indicators for merchant {sample_merchant}:\")\n",
    "df_with_rank_change[df_with_rank_change['ENCODED_MCT'] == sample_merchant][available_cols].head(15)"
   ]
  },
  {
   "cell_type": "markdown",
   "metadata": {},
   "source": [
    "## 7. Customer Behavior Indicators\n",
    "\n",
    "고객 행동 패턴을 나타내는 지표를 생성합니다.\n",
    "- 재방문율 추이\n",
    "- 신규 고객 비율 추이\n",
    "- 고객 충성도 지표"
   ]
  },
  {
   "cell_type": "code",
   "execution_count": null,
   "metadata": {},
   "outputs": [],
   "source": [
    "# CustomerFeatureEngine 초기화\n",
    "customer_engine = CustomerFeatureEngine(\n",
    "    merchant_col='ENCODED_MCT',\n",
    "    date_col='TA_YM'\n",
    ")\n",
    "\n",
    "print(\"CustomerFeatureEngine initialized\")"
   ]
  },
  {
   "cell_type": "code",
   "execution_count": null,
   "metadata": {},
   "outputs": [],
   "source": [
    "# Customer behavior indicators 생성\n",
    "df_with_customer = customer_engine.create_customer_behavior_features(\n",
    "    df_with_rank_change,\n",
    "    windows=[3, 6, 12]\n",
    ")\n",
    "\n",
    "print(f\"\\nShape after customer behavior features: {df_with_customer.shape}\")\n",
    "print(f\"New columns added: {df_with_customer.shape[1] - df_with_rank_change.shape[1]}\")"
   ]
  },
  {
   "cell_type": "code",
   "execution_count": null,
   "metadata": {},
   "outputs": [],
   "source": [
    "# Customer loyalty indicators 생성\n",
    "df_with_loyalty = customer_engine.create_loyalty_indicators(\n",
    "    df_with_customer,\n",
    "    windows=[3, 6, 12]\n",
    ")\n",
    "\n",
    "print(f\"\\nShape after loyalty indicators: {df_with_loyalty.shape}\")\n",
    "print(f\"New columns added: {df_with_loyalty.shape[1] - df_with_customer.shape[1]}\")"
   ]
  },
  {
   "cell_type": "markdown",
   "metadata": {},
   "source": [
    "## 8. Composite Indicators\n",
    "\n",
    "여러 feature를 조합하여 복합 지표를 생성합니다.\n",
    "- 가맹점 건강도 지수\n",
    "- 리스크 지수\n",
    "- 성장 지수"
   ]
  },
  {
   "cell_type": "code",
   "execution_count": null,
   "metadata": {},
   "outputs": [],
   "source": [
    "# CompositeFeatureEngine 초기화\n",
    "composite_engine = CompositeFeatureEngine()\n",
    "\n",
    "print(\"CompositeFeatureEngine initialized\")"
   ]
  },
  {
   "cell_type": "code",
   "execution_count": null,
   "metadata": {},
   "outputs": [],
   "source": [
    "# Composite indicators 생성\n",
    "df_with_composite = composite_engine.create_composite_indicators(\n",
    "    df_with_loyalty\n",
    ")\n",
    "\n",
    "print(f\"\\nShape after composite indicators: {df_with_composite.shape}\")\n",
    "print(f\"New columns added: {df_with_composite.shape[1] - df_with_loyalty.shape[1]}\")"
   ]
  },
  {
   "cell_type": "markdown",
   "metadata": {},
   "source": [
    "## 9. Feature Selection\n",
    "\n",
    "생성된 feature 중 중요한 변수를 선별합니다.\n",
    "- 결측값 비율 확인\n",
    "- 분산 확인\n",
    "- 상관관계 분석"
   ]
  },
  {
   "cell_type": "code",
   "execution_count": null,
   "metadata": {},
   "outputs": [],
   "source": [
    "# 결측값 비율 확인\n",
    "missing_ratio = df_with_composite.isnull().sum() / len(df_with_composite) * 100\n",
    "missing_ratio = missing_ratio[missing_ratio > 0].sort_values(ascending=False)\n",
    "\n",
    "print(f\"Columns with missing values: {len(missing_ratio)}\")\n",
    "print(f\"\\nTop 20 columns with highest missing ratio:\")\n",
    "print(missing_ratio.head(20))"
   ]
  },
  {
   "cell_type": "code",
   "execution_count": null,
   "metadata": {},
   "outputs": [],
   "source": [
    "# 결측값 시각화\n",
    "if len(missing_ratio) > 0:\n",
    "    fig, ax = plt.subplots(figsize=(14, 8))\n",
    "    top_missing = missing_ratio.head(30)\n",
    "    ax.barh(range(len(top_missing)), top_missing.values)\n",
    "    ax.set_yticks(range(len(top_missing)))\n",
    "    ax.set_yticklabels(top_missing.index)\n",
    "    ax.set_xlabel('Missing Ratio (%)')\n",
    "    ax.set_title('Top 30 Columns with Missing Values')\n",
    "    ax.invert_yaxis()\n",
    "    plt.tight_layout()\n",
    "    plt.show()"
   ]
  },
  {
   "cell_type": "code",
   "execution_count": null,
   "metadata": {},
   "outputs": [],
   "source": [
    "# 수치형 변수 선택\n",
    "numeric_cols = df_with_composite.select_dtypes(include=[np.number]).columns.tolist()\n",
    "\n",
    "# ID, 타겟 변수 제외\n",
    "exclude_cols = ['ENCODED_MCT', 'TA_YM', 'is_closed', 'will_close_1m', 'will_close_3m', 'months_until_close']\n",
    "feature_cols = [col for col in numeric_cols if col not in exclude_cols]\n",
    "\n",
    "print(f\"\\nTotal numeric features: {len(feature_cols)}\")\n",
    "print(f\"Features: {feature_cols[:20]}...\")"
   ]
  },
  {
   "cell_type": "code",
   "execution_count": null,
   "metadata": {},
   "outputs": [],
   "source": [
    "# 분산이 0인 변수 확인\n",
    "zero_var_cols = df_with_composite[feature_cols].var()[df_with_composite[feature_cols].var() == 0].index.tolist()\n",
    "\n",
    "if zero_var_cols:\n",
    "    print(f\"\\nColumns with zero variance: {len(zero_var_cols)}\")\n",
    "    print(zero_var_cols)\n",
    "else:\n",
    "    print(\"\\nNo columns with zero variance found\")"
   ]
  },
  {
   "cell_type": "code",
   "execution_count": null,
   "metadata": {},
   "outputs": [],
   "source": [
    "# 타겟 변수와의 상관관계 확인 (is_closed)\n",
    "if 'is_closed' in df_with_composite.columns:\n",
    "    correlations = df_with_composite[feature_cols].corrwith(df_with_composite['is_closed']).abs().sort_values(ascending=False)\n",
    "    \n",
    "    print(\"\\nTop 30 features correlated with 'is_closed':\")\n",
    "    print(correlations.head(30))\n",
    "    \n",
    "    # 시각화\n",
    "    fig, ax = plt.subplots(figsize=(14, 8))\n",
    "    top_corr = correlations.head(30)\n",
    "    ax.barh(range(len(top_corr)), top_corr.values)\n",
    "    ax.set_yticks(range(len(top_corr)))\n",
    "    ax.set_yticklabels(top_corr.index)\n",
    "    ax.set_xlabel('Absolute Correlation with is_closed')\n",
    "    ax.set_title('Top 30 Features by Correlation with Target')\n",
    "    ax.invert_yaxis()\n",
    "    plt.tight_layout()\n",
    "    plt.show()"
   ]
  },
  {
   "cell_type": "markdown",
   "metadata": {},
   "source": [
    "## 10. Feature Engineering 결과 저장"
   ]
  },
  {
   "cell_type": "code",
   "execution_count": null,
   "metadata": {},
   "outputs": [],
   "source": [
    "# 최종 데이터 정보\n",
    "print(\"=\"*80)\n",
    "print(\"FEATURE ENGINEERING SUMMARY\")\n",
    "print(\"=\"*80)\n",
    "\n",
    "print(f\"\\nFinal Shape: {df_with_composite.shape}\")\n",
    "print(f\"Total Columns: {len(df_with_composite.columns)}\")\n",
    "print(f\"Total Rows: {len(df_with_composite):,}\")\n",
    "print(f\"Unique Merchants: {df_with_composite['ENCODED_MCT'].nunique():,}\")\n",
    "print(f\"Date Range: {df_with_composite['TA_YM'].min()} ~ {df_with_composite['TA_YM'].max()}\")\n",
    "print(f\"Memory Usage: {df_with_composite.memory_usage(deep=True).sum() / 1024**2:.2f} MB\")\n",
    "\n",
    "print(f\"\\nOriginal columns: {df.shape[1]}\")\n",
    "print(f\"Engineered features: {df_with_composite.shape[1] - df.shape[1]}\")\n",
    "print(f\"Missing Values: {df_with_composite.isnull().sum().sum():,}\")"
   ]
  },
  {
   "cell_type": "code",
   "execution_count": null,
   "metadata": {},
   "outputs": [],
   "source": [
    "# Feature engineering 데이터 저장\n",
    "output_path = Path('../data/processed')\n",
    "output_path.mkdir(exist_ok=True)\n",
    "\n",
    "# CSV 저장\n",
    "csv_path = output_path / 'featured_data.csv'\n",
    "df_with_composite.to_csv(csv_path, index=False)\n",
    "print(f\"\\nSaved to: {csv_path}\")\n",
    "print(f\"File size: {csv_path.stat().st_size / 1024**2:.2f} MB\")"
   ]
  },
  {
   "cell_type": "code",
   "execution_count": null,
   "metadata": {},
   "outputs": [],
   "source": [
    "# Feature list 저장\n",
    "feature_list = {\n",
    "    'total_features': len(feature_cols),\n",
    "    'feature_columns': feature_cols,\n",
    "    'lag_features': [col for col in df_with_composite.columns if '_lag_' in col],\n",
    "    'ma_features': [col for col in df_with_composite.columns if '_ma_' in col],\n",
    "    'change_features': [col for col in df_with_composite.columns if '_change_' in col],\n",
    "    'trend_features': [col for col in df_with_composite.columns if '_trend_' in col],\n",
    "    'volatility_features': [col for col in df_with_composite.columns if '_std_' in col or '_cv_' in col],\n",
    "    'ranking_features': [col for col in df_with_composite.columns if '_rank' in col],\n",
    "    'customer_features': [col for col in df_with_composite.columns if 'customer_' in col or 'loyalty_' in col],\n",
    "    'composite_features': [col for col in df_with_composite.columns if 'health_' in col or 'risk_' in col or 'growth_' in col],\n",
    "}\n",
    "\n",
    "import json\n",
    "feature_path = output_path / 'feature_list.json'\n",
    "with open(feature_path, 'w') as f:\n",
    "    json.dump(feature_list, f, indent=2)\n",
    "\n",
    "print(f\"\\nFeature list saved to: {feature_path}\")"
   ]
  },
  {
   "cell_type": "code",
   "execution_count": null,
   "metadata": {},
   "outputs": [],
   "source": [
    "# Feature 통계 요약\n",
    "print(\"\\nFeature Statistics:\")\n",
    "for key, value in feature_list.items():\n",
    "    if key != 'feature_columns':\n",
    "        if isinstance(value, list):\n",
    "            print(f\"{key}: {len(value)}\")\n",
    "        else:\n",
    "            print(f\"{key}: {value}\")"
   ]
  },
  {
   "cell_type": "markdown",
   "metadata": {},
   "source": [
    "## 11. 결론\n",
    "\n",
    "### 완료된 작업\n",
    "1. ✅ Lag Features 생성 (1, 3, 6, 12개월)\n",
    "2. ✅ Moving Averages & Change Rates\n",
    "3. ✅ Trend & Volatility Indicators\n",
    "4. ✅ Relative Indicators (Ranking)\n",
    "5. ✅ Customer Behavior Indicators\n",
    "6. ✅ Composite Indicators\n",
    "7. ✅ Feature Selection & Analysis\n",
    "8. ✅ Feature Engineering 결과 저장\n",
    "\n",
    "### 다음 단계 (Week 3)\n",
    "- 모델 학습 및 평가\n",
    "  - XGBoost, LightGBM 모델 학습\n",
    "  - Cross-validation\n",
    "  - Hyperparameter tuning\n",
    "  - Feature importance 분석\n",
    "  - SHAP value 분석\n",
    "  - 앙상블 모델"
   ]
  },
  {
   "cell_type": "code",
   "execution_count": null,
   "metadata": {},
   "outputs": [],
   "source": [
    "print(\"\\n\" + \"=\"*80)\n",
    "print(\"FEATURE ENGINEERING COMPLETED\")\n",
    "print(\"=\"*80)\n",
    "print(f\"\\nFinal dataset: {df_with_composite.shape}\")\n",
    "print(f\"Saved to: {csv_path}\")\n",
    "print(\"\\nReady for Model Training!\")"
   ]
  }
 ],
 "metadata": {
  "kernelspec": {
   "display_name": "Python 3",
   "language": "python",
   "name": "python3"
  },
  "language_info": {
   "codemirror_mode": {
    "name": "ipython",
    "version": 3
   },
   "file_extension": ".py",
   "mimetype": "text/x-python",
   "name": "python",
   "nbconvert_exporter": "python",
   "pygments_lexer": "ipython3",
   "version": "3.12.0"
  }
 },
 "nbformat": 4,
 "nbformat_minor": 4
}
